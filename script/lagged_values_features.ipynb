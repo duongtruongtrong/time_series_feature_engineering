{
 "cells": [
  {
   "cell_type": "markdown",
   "metadata": {},
   "source": [
    "# Init library"
   ]
  },
  {
   "cell_type": "code",
   "execution_count": 1,
   "metadata": {},
   "outputs": [
    {
     "name": "stdout",
     "output_type": "stream",
     "text": [
      "O:\\Projects\\time_series_feature_engineering\n"
     ]
    }
   ],
   "source": [
    "# get parent directory for easy calling files outside of folder conatining the code file\n",
    "\n",
    "import os\n",
    "import sys\n",
    "from pathlib import Path\n",
    "\n",
    "parent_dir = Path(os.getcwd()).resolve().parent\n",
    "sys.path.append(str(parent_dir))\n",
    "\n",
    "print(parent_dir)\n",
    "\n"
   ]
  },
  {
   "cell_type": "code",
   "execution_count": 45,
   "metadata": {
    "ExecuteTime": {
     "end_time": "2023-04-06T07:23:33.910085Z",
     "start_time": "2023-04-06T07:22:55.160427Z"
    }
   },
   "outputs": [],
   "source": [
    "#!/usr/bin/env python\n",
    "# coding: utf-8\n",
    "\n",
    "import polars as pl\n",
    "import polars.selectors as cs"
   ]
  },
  {
   "cell_type": "markdown",
   "metadata": {},
   "source": [
    "# Read data"
   ]
  },
  {
   "cell_type": "code",
   "execution_count": 3,
   "metadata": {},
   "outputs": [
    {
     "name": "stdout",
     "output_type": "stream",
     "text": [
      "(988, 4)\n"
     ]
    },
    {
     "data": {
      "text/html": [
       "<div><style>\n",
       ".dataframe > thead > tr,\n",
       ".dataframe > tbody > tr {\n",
       "  text-align: right;\n",
       "  white-space: pre-wrap;\n",
       "}\n",
       "</style>\n",
       "<small>shape: (5, 4)</small><table border=\"1\" class=\"dataframe\"><thead><tr><th>date</th><th>x_1</th><th>x_2</th><th>label</th></tr><tr><td>date</td><td>i64</td><td>i64</td><td>i64</td></tr></thead><tbody><tr><td>2022-09-14</td><td>125490</td><td>169835</td><td>108957173922</td></tr><tr><td>2022-09-13</td><td>107326</td><td>146494</td><td>97902777699</td></tr><tr><td>2022-09-12</td><td>93820</td><td>130855</td><td>95690875998</td></tr><tr><td>2022-09-11</td><td>64274</td><td>87798</td><td>58820280634</td></tr><tr><td>2022-09-10</td><td>66959</td><td>90096</td><td>69852043855</td></tr></tbody></table></div>"
      ],
      "text/plain": [
       "shape: (5, 4)\n",
       "┌────────────┬────────┬────────┬──────────────┐\n",
       "│ date       ┆ x_1    ┆ x_2    ┆ label        │\n",
       "│ ---        ┆ ---    ┆ ---    ┆ ---          │\n",
       "│ date       ┆ i64    ┆ i64    ┆ i64          │\n",
       "╞════════════╪════════╪════════╪══════════════╡\n",
       "│ 2022-09-14 ┆ 125490 ┆ 169835 ┆ 108957173922 │\n",
       "│ 2022-09-13 ┆ 107326 ┆ 146494 ┆ 97902777699  │\n",
       "│ 2022-09-12 ┆ 93820  ┆ 130855 ┆ 95690875998  │\n",
       "│ 2022-09-11 ┆ 64274  ┆ 87798  ┆ 58820280634  │\n",
       "│ 2022-09-10 ┆ 66959  ┆ 90096  ┆ 69852043855  │\n",
       "└────────────┴────────┴────────┴──────────────┘"
      ]
     },
     "execution_count": 3,
     "metadata": {},
     "output_type": "execute_result"
    }
   ],
   "source": [
    "df = pl.read_excel(parent_dir / 'data/test_data_2020_202208.xlsx')\n",
    "\n",
    "print(df.shape)\n",
    "\n",
    "df.head(5)"
   ]
  },
  {
   "cell_type": "markdown",
   "metadata": {},
   "source": [
    "# Lagged Values Features\n",
    "- Values of last 2, 7, 14, 28, 30... days.\n",
    "- Values of day t-1, t-4, t-7, t-10…"
   ]
  },
  {
   "cell_type": "code",
   "execution_count": 56,
   "metadata": {},
   "outputs": [
    {
     "data": {
      "text/html": [
       "<div><style>\n",
       ".dataframe > thead > tr,\n",
       ".dataframe > tbody > tr {\n",
       "  text-align: right;\n",
       "  white-space: pre-wrap;\n",
       "}\n",
       "</style>\n",
       "<small>shape: (5, 34)</small><table border=\"1\" class=\"dataframe\"><thead><tr><th>date</th><th>x_1</th><th>x_2</th><th>label</th><th>x_1_lag_1</th><th>x_1_lag_4</th><th>x_1_lag_7</th><th>x_1_lag_10</th><th>x_1_lag_13</th><th>x_1_lag_16</th><th>x_1_lag_19</th><th>x_1_lag_22</th><th>x_1_lag_25</th><th>x_1_lag_28</th><th>x_2_lag_1</th><th>x_2_lag_4</th><th>x_2_lag_7</th><th>x_2_lag_10</th><th>x_2_lag_13</th><th>x_2_lag_16</th><th>x_2_lag_19</th><th>x_2_lag_22</th><th>x_2_lag_25</th><th>x_2_lag_28</th><th>label_lag_1</th><th>label_lag_4</th><th>label_lag_7</th><th>label_lag_10</th><th>label_lag_13</th><th>label_lag_16</th><th>label_lag_19</th><th>label_lag_22</th><th>label_lag_25</th><th>label_lag_28</th></tr><tr><td>date</td><td>i64</td><td>i64</td><td>i64</td><td>i64</td><td>i64</td><td>i64</td><td>i64</td><td>i64</td><td>i64</td><td>i64</td><td>i64</td><td>i64</td><td>i64</td><td>i64</td><td>i64</td><td>i64</td><td>i64</td><td>i64</td><td>i64</td><td>i64</td><td>i64</td><td>i64</td><td>i64</td><td>i64</td><td>i64</td><td>i64</td><td>i64</td><td>i64</td><td>i64</td><td>i64</td><td>i64</td><td>i64</td><td>i64</td></tr></thead><tbody><tr><td>2022-09-10</td><td>66959</td><td>90096</td><td>69852043855</td><td>72821</td><td>54644</td><td>20778</td><td>27443</td><td>23327</td><td>53459</td><td>74548</td><td>96324</td><td>104836</td><td>82044</td><td>97114</td><td>69028</td><td>26028</td><td>36098</td><td>30643</td><td>71014</td><td>101239</td><td>127615</td><td>144794</td><td>113005</td><td>79781916805</td><td>53346288660</td><td>22707880783</td><td>42072545272</td><td>24514786645</td><td>55953437762</td><td>72984902538</td><td>82549875296</td><td>98694718554</td><td>70168022431</td></tr><tr><td>2022-09-11</td><td>64274</td><td>87798</td><td>58820280634</td><td>66959</td><td>59809</td><td>21103</td><td>22713</td><td>30909</td><td>45255</td><td>73745</td><td>72303</td><td>91497</td><td>77888</td><td>90096</td><td>75899</td><td>26208</td><td>28045</td><td>41434</td><td>59788</td><td>99688</td><td>97808</td><td>127341</td><td>109136</td><td>69852043855</td><td>56484560972</td><td>22803785170</td><td>31608675158</td><td>39179147425</td><td>50471183678</td><td>68946068412</td><td>63271643103</td><td>82014715552</td><td>67757852224</td></tr><tr><td>2022-09-12</td><td>93820</td><td>130855</td><td>95690875998</td><td>64274</td><td>54406</td><td>45267</td><td>18867</td><td>28685</td><td>31378</td><td>56506</td><td>71076</td><td>89722</td><td>108490</td><td>87798</td><td>71847</td><td>56439</td><td>23122</td><td>38464</td><td>41374</td><td>75677</td><td>94779</td><td>126754</td><td>151076</td><td>58820280634</td><td>55782383425</td><td>52145550109</td><td>19098035913</td><td>40161119780</td><td>33137300553</td><td>55921020032</td><td>57347687103</td><td>81923594072</td><td>107653746487</td></tr><tr><td>2022-09-13</td><td>107326</td><td>146494</td><td>97902777699</td><td>93820</td><td>72821</td><td>54644</td><td>20778</td><td>27443</td><td>23327</td><td>53459</td><td>74548</td><td>96324</td><td>104836</td><td>130855</td><td>97114</td><td>69028</td><td>26028</td><td>36098</td><td>30643</td><td>71014</td><td>101239</td><td>127615</td><td>144794</td><td>95690875998</td><td>79781916805</td><td>53346288660</td><td>22707880783</td><td>42072545272</td><td>24514786645</td><td>55953437762</td><td>72984902538</td><td>82549875296</td><td>98694718554</td></tr><tr><td>2022-09-14</td><td>125490</td><td>169835</td><td>108957173922</td><td>107326</td><td>66959</td><td>59809</td><td>21103</td><td>22713</td><td>30909</td><td>45255</td><td>73745</td><td>72303</td><td>91497</td><td>146494</td><td>90096</td><td>75899</td><td>26208</td><td>28045</td><td>41434</td><td>59788</td><td>99688</td><td>97808</td><td>127341</td><td>97902777699</td><td>69852043855</td><td>56484560972</td><td>22803785170</td><td>31608675158</td><td>39179147425</td><td>50471183678</td><td>68946068412</td><td>63271643103</td><td>82014715552</td></tr></tbody></table></div>"
      ],
      "text/plain": [
       "shape: (5, 34)\n",
       "┌────────────┬────────┬────────┬────────────┬───┬────────────┬────────────┬────────────┬───────────┐\n",
       "│ date       ┆ x_1    ┆ x_2    ┆ label      ┆ … ┆ label_lag_ ┆ label_lag_ ┆ label_lag_ ┆ label_lag │\n",
       "│ ---        ┆ ---    ┆ ---    ┆ ---        ┆   ┆ 19         ┆ 22         ┆ 25         ┆ _28       │\n",
       "│ date       ┆ i64    ┆ i64    ┆ i64        ┆   ┆ ---        ┆ ---        ┆ ---        ┆ ---       │\n",
       "│            ┆        ┆        ┆            ┆   ┆ i64        ┆ i64        ┆ i64        ┆ i64       │\n",
       "╞════════════╪════════╪════════╪════════════╪═══╪════════════╪════════════╪════════════╪═══════════╡\n",
       "│ 2022-09-10 ┆ 66959  ┆ 90096  ┆ 6985204385 ┆ … ┆ 7298490253 ┆ 8254987529 ┆ 9869471855 ┆ 701680224 │\n",
       "│            ┆        ┆        ┆ 5          ┆   ┆ 8          ┆ 6          ┆ 4          ┆ 31        │\n",
       "│ 2022-09-11 ┆ 64274  ┆ 87798  ┆ 5882028063 ┆ … ┆ 6894606841 ┆ 6327164310 ┆ 8201471555 ┆ 677578522 │\n",
       "│            ┆        ┆        ┆ 4          ┆   ┆ 2          ┆ 3          ┆ 2          ┆ 24        │\n",
       "│ 2022-09-12 ┆ 93820  ┆ 130855 ┆ 9569087599 ┆ … ┆ 5592102003 ┆ 5734768710 ┆ 8192359407 ┆ 107653746 │\n",
       "│            ┆        ┆        ┆ 8          ┆   ┆ 2          ┆ 3          ┆ 2          ┆ 487       │\n",
       "│ 2022-09-13 ┆ 107326 ┆ 146494 ┆ 9790277769 ┆ … ┆ 5595343776 ┆ 7298490253 ┆ 8254987529 ┆ 986947185 │\n",
       "│            ┆        ┆        ┆ 9          ┆   ┆ 2          ┆ 8          ┆ 6          ┆ 54        │\n",
       "│ 2022-09-14 ┆ 125490 ┆ 169835 ┆ 1089571739 ┆ … ┆ 5047118367 ┆ 6894606841 ┆ 6327164310 ┆ 820147155 │\n",
       "│            ┆        ┆        ┆ 22         ┆   ┆ 8          ┆ 2          ┆ 3          ┆ 52        │\n",
       "└────────────┴────────┴────────┴────────────┴───┴────────────┴────────────┴────────────┴───────────┘"
      ]
     },
     "execution_count": 56,
     "metadata": {},
     "output_type": "execute_result"
    }
   ],
   "source": [
    "df_prep = df.sort(by='date', descending=False)\n",
    "\n",
    "# ====================================\n",
    "# Values of last 2, 7, 14, 28, 30... days.\n",
    "lags = 30 # do not use data from the first 30 days for training. There will be a bunch of null values in lag_columns.\n",
    "lag_step = 3 # Values of day t-1, t-4, t-7, t-10…\n",
    "\n",
    "lag_columns = []\n",
    "value_columns = ['x_1', 'x_2', 'label']\n",
    "\n",
    "for c in value_columns:\n",
    "    for i in range(1, lags+1, lag_step):\n",
    "        lag_columns.append(pl.col(c).shift(i).alias(f\"{c}_lag_{i}\"))\n",
    "\n",
    "df_prep = df_prep.with_columns(lag_columns)\n",
    "\n",
    "df_prep.tail(5)\n"
   ]
  },
  {
   "cell_type": "code",
   "execution_count": 16,
   "metadata": {},
   "outputs": [
    {
     "data": {
      "text/html": [
       "<div><style>\n",
       ".dataframe > thead > tr,\n",
       ".dataframe > tbody > tr {\n",
       "  text-align: right;\n",
       "  white-space: pre-wrap;\n",
       "}\n",
       "</style>\n",
       "<small>shape: (7, 38)</small><table border=\"1\" class=\"dataframe\"><thead><tr><th>date</th><th>x_1</th><th>x_2</th><th>label</th><th>day</th><th>month</th><th>quarter</th><th>year</th><th>x_1_lag_1</th><th>x_1_lag_4</th><th>x_1_lag_7</th><th>x_1_lag_10</th><th>x_1_lag_13</th><th>x_1_lag_16</th><th>x_1_lag_19</th><th>x_1_lag_22</th><th>x_1_lag_25</th><th>x_1_lag_28</th><th>x_2_lag_1</th><th>x_2_lag_4</th><th>x_2_lag_7</th><th>x_2_lag_10</th><th>x_2_lag_13</th><th>x_2_lag_16</th><th>x_2_lag_19</th><th>x_2_lag_22</th><th>x_2_lag_25</th><th>x_2_lag_28</th><th>label_lag_1</th><th>label_lag_4</th><th>label_lag_7</th><th>label_lag_10</th><th>label_lag_13</th><th>label_lag_16</th><th>label_lag_19</th><th>label_lag_22</th><th>label_lag_25</th><th>label_lag_28</th></tr><tr><td>date</td><td>i64</td><td>i64</td><td>i64</td><td>i8</td><td>i8</td><td>i8</td><td>i16</td><td>i64</td><td>i64</td><td>i64</td><td>i64</td><td>i64</td><td>i64</td><td>i64</td><td>i64</td><td>i64</td><td>i64</td><td>i64</td><td>i64</td><td>i64</td><td>i64</td><td>i64</td><td>i64</td><td>i64</td><td>i64</td><td>i64</td><td>i64</td><td>i64</td><td>i64</td><td>i64</td><td>i64</td><td>i64</td><td>i64</td><td>i64</td><td>i64</td><td>i64</td><td>i64</td></tr></thead><tbody><tr><td>2020-01-01</td><td>1204</td><td>1467</td><td>927380311</td><td>1</td><td>1</td><td>1</td><td>2020</td><td>null</td><td>null</td><td>null</td><td>null</td><td>null</td><td>null</td><td>null</td><td>null</td><td>null</td><td>null</td><td>null</td><td>null</td><td>null</td><td>null</td><td>null</td><td>null</td><td>null</td><td>null</td><td>null</td><td>null</td><td>null</td><td>null</td><td>null</td><td>null</td><td>null</td><td>null</td><td>null</td><td>null</td><td>null</td><td>null</td></tr><tr><td>2020-01-02</td><td>3179</td><td>3965</td><td>4738609473</td><td>2</td><td>1</td><td>1</td><td>2020</td><td>1204</td><td>null</td><td>null</td><td>null</td><td>null</td><td>null</td><td>null</td><td>null</td><td>null</td><td>null</td><td>1467</td><td>null</td><td>null</td><td>null</td><td>null</td><td>null</td><td>null</td><td>null</td><td>null</td><td>null</td><td>927380311</td><td>null</td><td>null</td><td>null</td><td>null</td><td>null</td><td>null</td><td>null</td><td>null</td><td>null</td></tr><tr><td>2020-01-03</td><td>2732</td><td>3454</td><td>4065781429</td><td>3</td><td>1</td><td>1</td><td>2020</td><td>3179</td><td>null</td><td>null</td><td>null</td><td>null</td><td>null</td><td>null</td><td>null</td><td>null</td><td>null</td><td>3965</td><td>null</td><td>null</td><td>null</td><td>null</td><td>null</td><td>null</td><td>null</td><td>null</td><td>null</td><td>4738609473</td><td>null</td><td>null</td><td>null</td><td>null</td><td>null</td><td>null</td><td>null</td><td>null</td><td>null</td></tr><tr><td>2020-01-04</td><td>2225</td><td>2678</td><td>2276944452</td><td>4</td><td>1</td><td>1</td><td>2020</td><td>2732</td><td>null</td><td>null</td><td>null</td><td>null</td><td>null</td><td>null</td><td>null</td><td>null</td><td>null</td><td>3454</td><td>null</td><td>null</td><td>null</td><td>null</td><td>null</td><td>null</td><td>null</td><td>null</td><td>null</td><td>4065781429</td><td>null</td><td>null</td><td>null</td><td>null</td><td>null</td><td>null</td><td>null</td><td>null</td><td>null</td></tr><tr><td>2020-01-05</td><td>2652</td><td>3183</td><td>2497004303</td><td>5</td><td>1</td><td>1</td><td>2020</td><td>2225</td><td>1204</td><td>null</td><td>null</td><td>null</td><td>null</td><td>null</td><td>null</td><td>null</td><td>null</td><td>2678</td><td>1467</td><td>null</td><td>null</td><td>null</td><td>null</td><td>null</td><td>null</td><td>null</td><td>null</td><td>2276944452</td><td>927380311</td><td>null</td><td>null</td><td>null</td><td>null</td><td>null</td><td>null</td><td>null</td><td>null</td></tr><tr><td>2020-01-06</td><td>5209</td><td>6680</td><td>6364698773</td><td>6</td><td>1</td><td>1</td><td>2020</td><td>2652</td><td>3179</td><td>null</td><td>null</td><td>null</td><td>null</td><td>null</td><td>null</td><td>null</td><td>null</td><td>3183</td><td>3965</td><td>null</td><td>null</td><td>null</td><td>null</td><td>null</td><td>null</td><td>null</td><td>null</td><td>2497004303</td><td>4738609473</td><td>null</td><td>null</td><td>null</td><td>null</td><td>null</td><td>null</td><td>null</td><td>null</td></tr><tr><td>2020-01-07</td><td>6276</td><td>7965</td><td>6493319066</td><td>7</td><td>1</td><td>1</td><td>2020</td><td>5209</td><td>2732</td><td>null</td><td>null</td><td>null</td><td>null</td><td>null</td><td>null</td><td>null</td><td>null</td><td>6680</td><td>3454</td><td>null</td><td>null</td><td>null</td><td>null</td><td>null</td><td>null</td><td>null</td><td>null</td><td>6364698773</td><td>4065781429</td><td>null</td><td>null</td><td>null</td><td>null</td><td>null</td><td>null</td><td>null</td><td>null</td></tr></tbody></table></div>"
      ],
      "text/plain": [
       "shape: (7, 38)\n",
       "┌────────────┬──────┬──────┬────────────┬───┬─────────────┬─────────────┬─────────────┬────────────┐\n",
       "│ date       ┆ x_1  ┆ x_2  ┆ label      ┆ … ┆ label_lag_1 ┆ label_lag_2 ┆ label_lag_2 ┆ label_lag_ │\n",
       "│ ---        ┆ ---  ┆ ---  ┆ ---        ┆   ┆ 9           ┆ 2           ┆ 5           ┆ 28         │\n",
       "│ date       ┆ i64  ┆ i64  ┆ i64        ┆   ┆ ---         ┆ ---         ┆ ---         ┆ ---        │\n",
       "│            ┆      ┆      ┆            ┆   ┆ i64         ┆ i64         ┆ i64         ┆ i64        │\n",
       "╞════════════╪══════╪══════╪════════════╪═══╪═════════════╪═════════════╪═════════════╪════════════╡\n",
       "│ 2020-01-01 ┆ 1204 ┆ 1467 ┆ 927380311  ┆ … ┆ null        ┆ null        ┆ null        ┆ null       │\n",
       "│ 2020-01-02 ┆ 3179 ┆ 3965 ┆ 4738609473 ┆ … ┆ null        ┆ null        ┆ null        ┆ null       │\n",
       "│ 2020-01-03 ┆ 2732 ┆ 3454 ┆ 4065781429 ┆ … ┆ null        ┆ null        ┆ null        ┆ null       │\n",
       "│ 2020-01-04 ┆ 2225 ┆ 2678 ┆ 2276944452 ┆ … ┆ null        ┆ null        ┆ null        ┆ null       │\n",
       "│ 2020-01-05 ┆ 2652 ┆ 3183 ┆ 2497004303 ┆ … ┆ null        ┆ null        ┆ null        ┆ null       │\n",
       "│ 2020-01-06 ┆ 5209 ┆ 6680 ┆ 6364698773 ┆ … ┆ null        ┆ null        ┆ null        ┆ null       │\n",
       "│ 2020-01-07 ┆ 6276 ┆ 7965 ┆ 6493319066 ┆ … ┆ null        ┆ null        ┆ null        ┆ null       │\n",
       "└────────────┴──────┴──────┴────────────┴───┴─────────────┴─────────────┴─────────────┴────────────┘"
      ]
     },
     "execution_count": 16,
     "metadata": {},
     "output_type": "execute_result"
    }
   ],
   "source": [
    "df_prep.head(7)\n"
   ]
  },
  {
   "cell_type": "markdown",
   "metadata": {},
   "source": [
    "# Aggregated Lagged Values Features\n",
    "- Average growth of the last 2, 7, 14, 28, 30... days.\n",
    "- Rolling Mean, max, min, median, standard deviation… of days t-1, t-4, t-7, t-10…"
   ]
  },
  {
   "cell_type": "code",
   "execution_count": 61,
   "metadata": {},
   "outputs": [
    {
     "data": {
      "text/html": [
       "<div><style>\n",
       ".dataframe > thead > tr,\n",
       ".dataframe > tbody > tr {\n",
       "  text-align: right;\n",
       "  white-space: pre-wrap;\n",
       "}\n",
       "</style>\n",
       "<small>shape: (10, 19)</small><table border=\"1\" class=\"dataframe\"><thead><tr><th>date</th><th>x_1</th><th>x_2</th><th>label</th><th>x_1_growth_rate_28_days</th><th>x_2_growth_rate_28_days</th><th>label_growth_rate_28_days</th><th>x_1_rolling_mean</th><th>x_2_rolling_mean</th><th>label_rolling_mean</th><th>x_1_rolling_min</th><th>x_1_rolling_max</th><th>x_1_rolling_std</th><th>x_2_rolling_min</th><th>x_2_rolling_max</th><th>x_2_rolling_std</th><th>label_rolling_min</th><th>label_rolling_max</th><th>label_rolling_std</th></tr><tr><td>date</td><td>i64</td><td>i64</td><td>i64</td><td>f64</td><td>f64</td><td>f64</td><td>f64</td><td>f64</td><td>f64</td><td>i64</td><td>i64</td><td>f64</td><td>i64</td><td>i64</td><td>f64</td><td>i64</td><td>i64</td><td>f64</td></tr></thead><tbody><tr><td>2022-09-05</td><td>45267</td><td>56439</td><td>52145550109</td><td>-0.625102</td><td>-0.660514</td><td>-0.625582</td><td>57318.8</td><td>78076.2</td><td>5.6551e10</td><td>21103</td><td>91497</td><td>25868.920996</td><td>26208</td><td>127341</td><td>37145.734517</td><td>22803785170</td><td>82014715552</td><td>1.9932e10</td></tr><tr><td>2022-09-06</td><td>54644</td><td>69028</td><td>53346288660</td><td>-0.295762</td><td>-0.369235</td><td>-0.198628</td><td>60318.6</td><td>82043.5</td><td>5.9500e10</td><td>18867</td><td>108490</td><td>29687.025592</td><td>23122</td><td>151076</td><td>42691.247313</td><td>19098035913</td><td>107653746487</td><td>2.6154e10</td></tr><tr><td>2022-09-07</td><td>59809</td><td>75899</td><td>56484560972</td><td>-0.443277</td><td>-0.488325</td><td>-0.494776</td><td>63555.6</td><td>85437.0</td><td>6.2858e10</td><td>20778</td><td>104836</td><td>32268.344458</td><td>26028</td><td>144794</td><td>44972.267714</td><td>22707880783</td><td>105589463477</td><td>2.8493e10</td></tr><tr><td>2022-09-08</td><td>54406</td><td>71847</td><td>55782383425</td><td>-0.266012</td><td>-0.33489</td><td>-0.280955</td><td>57670.7</td><td>77946.2</td><td>5.6109e10</td><td>21103</td><td>91497</td><td>25877.304497</td><td>26208</td><td>127341</td><td>37151.419975</td><td>22803785170</td><td>82014715552</td><td>1.9874e10</td></tr><tr><td>2022-09-09</td><td>72821</td><td>97114</td><td>79781916805</td><td>-0.388126</td><td>-0.417172</td><td>-0.324215</td><td>59331.4</td><td>80280.5</td><td>5.8572e10</td><td>18867</td><td>108490</td><td>29704.866321</td><td>23122</td><td>151076</td><td>42714.183664</td><td>19098035913</td><td>107653746487</td><td>2.6100e10</td></tr><tr><td>2022-09-10</td><td>66959</td><td>90096</td><td>69852043855</td><td>-0.112415</td><td>-0.140622</td><td>0.137012</td><td>61022.4</td><td>81657.8</td><td>6.0277e10</td><td>20778</td><td>104836</td><td>30177.090307</td><td>26028</td><td>144794</td><td>41831.527998</td><td>22707880783</td><td>98694718554</td><td>2.5167e10</td></tr><tr><td>2022-09-11</td><td>64274</td><td>87798</td><td>58820280634</td><td>-0.140317</td><td>-0.174461</td><td>0.030907</td><td>56218.1</td><td>75544.3</td><td>5.5239e10</td><td>21103</td><td>91497</td><td>24776.254665</td><td>26208</td><td>127341</td><td>35282.662356</td><td>22803785170</td><td>82014715552</td><td>1.8951e10</td></tr><tr><td>2022-09-12</td><td>93820</td><td>130855</td><td>95690875998</td><td>-0.407558</td><td>-0.418849</td><td>-0.453616</td><td>56867.1</td><td>76733.0</td><td>5.6199e10</td><td>18867</td><td>108490</td><td>27947.978601</td><td>23122</td><td>151076</td><td>40142.556473</td><td>19098035913</td><td>107653746487</td><td>2.4720e10</td></tr><tr><td>2022-09-13</td><td>107326</td><td>146494</td><td>97902777699</td><td>-0.105078</td><td>-0.096268</td><td>-0.030436</td><td>62200.0</td><td>83442.8</td><td>6.2830e10</td><td>20778</td><td>104836</td><td>31297.530069</td><td>26028</td><td>144794</td><td>43658.709073</td><td>22707880783</td><td>98694718554</td><td>2.7470e10</td></tr><tr><td>2022-09-14</td><td>125490</td><td>169835</td><td>108957173922</td><td>0.173</td><td>0.150407</td><td>0.193722</td><td>59161.9</td><td>79280.1</td><td>5.8253e10</td><td>21103</td><td>107326</td><td>29022.095891</td><td>26208</td><td>146494</td><td>40783.564188</td><td>22803785170</td><td>97902777699</td><td>2.3106e10</td></tr></tbody></table></div>"
      ],
      "text/plain": [
       "shape: (10, 19)\n",
       "┌────────────┬────────┬────────┬────────────┬───┬────────────┬────────────┬────────────┬───────────┐\n",
       "│ date       ┆ x_1    ┆ x_2    ┆ label      ┆ … ┆ x_2_rollin ┆ label_roll ┆ label_roll ┆ label_rol │\n",
       "│ ---        ┆ ---    ┆ ---    ┆ ---        ┆   ┆ g_std      ┆ ing_min    ┆ ing_max    ┆ ling_std  │\n",
       "│ date       ┆ i64    ┆ i64    ┆ i64        ┆   ┆ ---        ┆ ---        ┆ ---        ┆ ---       │\n",
       "│            ┆        ┆        ┆            ┆   ┆ f64        ┆ i64        ┆ i64        ┆ f64       │\n",
       "╞════════════╪════════╪════════╪════════════╪═══╪════════════╪════════════╪════════════╪═══════════╡\n",
       "│ 2022-09-05 ┆ 45267  ┆ 56439  ┆ 5214555010 ┆ … ┆ 37145.7345 ┆ 2280378517 ┆ 8201471555 ┆ 1.9932e10 │\n",
       "│            ┆        ┆        ┆ 9          ┆   ┆ 17         ┆ 0          ┆ 2          ┆           │\n",
       "│ 2022-09-06 ┆ 54644  ┆ 69028  ┆ 5334628866 ┆ … ┆ 42691.2473 ┆ 1909803591 ┆ 1076537464 ┆ 2.6154e10 │\n",
       "│            ┆        ┆        ┆ 0          ┆   ┆ 13         ┆ 3          ┆ 87         ┆           │\n",
       "│ 2022-09-07 ┆ 59809  ┆ 75899  ┆ 5648456097 ┆ … ┆ 44972.2677 ┆ 2270788078 ┆ 1055894634 ┆ 2.8493e10 │\n",
       "│            ┆        ┆        ┆ 2          ┆   ┆ 14         ┆ 3          ┆ 77         ┆           │\n",
       "│ 2022-09-08 ┆ 54406  ┆ 71847  ┆ 5578238342 ┆ … ┆ 37151.4199 ┆ 2280378517 ┆ 8201471555 ┆ 1.9874e10 │\n",
       "│            ┆        ┆        ┆ 5          ┆   ┆ 75         ┆ 0          ┆ 2          ┆           │\n",
       "│ 2022-09-09 ┆ 72821  ┆ 97114  ┆ 7978191680 ┆ … ┆ 42714.1836 ┆ 1909803591 ┆ 1076537464 ┆ 2.6100e10 │\n",
       "│            ┆        ┆        ┆ 5          ┆   ┆ 64         ┆ 3          ┆ 87         ┆           │\n",
       "│ 2022-09-10 ┆ 66959  ┆ 90096  ┆ 6985204385 ┆ … ┆ 41831.5279 ┆ 2270788078 ┆ 9869471855 ┆ 2.5167e10 │\n",
       "│            ┆        ┆        ┆ 5          ┆   ┆ 98         ┆ 3          ┆ 4          ┆           │\n",
       "│ 2022-09-11 ┆ 64274  ┆ 87798  ┆ 5882028063 ┆ … ┆ 35282.6623 ┆ 2280378517 ┆ 8201471555 ┆ 1.8951e10 │\n",
       "│            ┆        ┆        ┆ 4          ┆   ┆ 56         ┆ 0          ┆ 2          ┆           │\n",
       "│ 2022-09-12 ┆ 93820  ┆ 130855 ┆ 9569087599 ┆ … ┆ 40142.5564 ┆ 1909803591 ┆ 1076537464 ┆ 2.4720e10 │\n",
       "│            ┆        ┆        ┆ 8          ┆   ┆ 73         ┆ 3          ┆ 87         ┆           │\n",
       "│ 2022-09-13 ┆ 107326 ┆ 146494 ┆ 9790277769 ┆ … ┆ 43658.7090 ┆ 2270788078 ┆ 9869471855 ┆ 2.7470e10 │\n",
       "│            ┆        ┆        ┆ 9          ┆   ┆ 73         ┆ 3          ┆ 4          ┆           │\n",
       "│ 2022-09-14 ┆ 125490 ┆ 169835 ┆ 1089571739 ┆ … ┆ 40783.5641 ┆ 2280378517 ┆ 9790277769 ┆ 2.3106e10 │\n",
       "│            ┆        ┆        ┆ 22         ┆   ┆ 88         ┆ 0          ┆ 9          ┆           │\n",
       "└────────────┴────────┴────────┴────────────┴───┴────────────┴────────────┴────────────┴───────────┘"
      ]
     },
     "execution_count": 61,
     "metadata": {},
     "output_type": "execute_result"
    }
   ],
   "source": [
    "# ====================================\n",
    "# Average growth of the last 2, 7, 14, 28, 30... days.\n",
    "growth_period = 28 # growth of the last 28 days. Must match the number of days in lagged values ablove.\n",
    "\n",
    "value_columns = ['x_1', 'x_2', 'label']\n",
    "\n",
    "for c in value_columns:\n",
    "    df_prep = df_prep.with_columns(((pl.col(f\"{c}_lag_1\") - pl.col(f\"{c}_lag_{growth_period}\")) / pl.col(f\"{c}_lag_{growth_period}\")).alias(f\"{c}_growth_rate_{growth_period}_days\"))\n",
    "\n",
    "\n",
    "# ====================================\n",
    "# Rolling Mean, max, min, median, standard deviation… of days t-1, t-4, t-7, t-10…, t-25, t-28\n",
    "for c in value_columns:\n",
    "    df_prep = df_prep.with_columns(pl.concat_list(cs.starts_with(f\"{c}_lag\")).list.mean().alias(f\"{c}_rolling_mean\"))\n",
    "    df_prep = df_prep.with_columns(pl.concat_list(cs.starts_with(f\"{c}_lag\")).list.min().alias(f\"{c}_rolling_min\"))\n",
    "    df_prep = df_prep.with_columns(pl.concat_list(cs.starts_with(f\"{c}_lag\")).list.max().alias(f\"{c}_rolling_max\"))\n",
    "    df_prep = df_prep.with_columns(pl.concat_list(cs.starts_with(f\"{c}_lag\")).list.std().alias(f\"{c}_rolling_std\"))\n",
    "\n",
    "    # for easy showing result\n",
    "    df_prep = df_prep.drop(cs.starts_with(f\"{c}_lag\"))\n",
    "\n",
    "df_prep.tail(10)"
   ]
  },
  {
   "cell_type": "markdown",
   "metadata": {},
   "source": [
    "# Lagged Values Features\n",
    "- Values of the same date in the previous 1, 2, 3… months or quarters or years."
   ]
  },
  {
   "cell_type": "code",
   "execution_count": 62,
   "metadata": {},
   "outputs": [
    {
     "data": {
      "text/html": [
       "<div><style>\n",
       ".dataframe > thead > tr,\n",
       ".dataframe > tbody > tr {\n",
       "  text-align: right;\n",
       "  white-space: pre-wrap;\n",
       "}\n",
       "</style>\n",
       "<small>shape: (10, 16)</small><table border=\"1\" class=\"dataframe\"><thead><tr><th>date</th><th>x_1</th><th>x_2</th><th>label</th><th>prev_1_month</th><th>prev_2_month</th><th>prev_3_month</th><th>x_1_prev_1_month</th><th>x_2_prev_1_month</th><th>label_prev_1_month</th><th>x_1_prev_2_month</th><th>x_2_prev_2_month</th><th>label_prev_2_month</th><th>x_1_prev_3_month</th><th>x_2_prev_3_month</th><th>label_prev_3_month</th></tr><tr><td>date</td><td>i64</td><td>i64</td><td>i64</td><td>date</td><td>date</td><td>date</td><td>i64</td><td>i64</td><td>i64</td><td>i64</td><td>i64</td><td>i64</td><td>i64</td><td>i64</td><td>i64</td></tr></thead><tbody><tr><td>2022-07-31</td><td>17420</td><td>24136</td><td>20593939456</td><td>2022-06-30</td><td>2022-05-31</td><td>2022-04-30</td><td>27916</td><td>36342</td><td>39842656892</td><td>27173</td><td>39031</td><td>37684013508</td><td>16293</td><td>21353</td><td>20212177918</td></tr><tr><td>2022-07-30</td><td>19884</td><td>28171</td><td>26267033664</td><td>2022-06-30</td><td>2022-05-30</td><td>2022-04-30</td><td>27916</td><td>36342</td><td>39842656892</td><td>26491</td><td>36741</td><td>32970867146</td><td>16293</td><td>21353</td><td>20212177918</td></tr><tr><td>2022-07-29</td><td>25323</td><td>36250</td><td>34789820354</td><td>2022-06-29</td><td>2022-05-29</td><td>2022-04-29</td><td>26432</td><td>34479</td><td>33639337985</td><td>19190</td><td>27018</td><td>20033812465</td><td>27990</td><td>38629</td><td>38403618787</td></tr><tr><td>2022-07-28</td><td>31960</td><td>46610</td><td>39199979007</td><td>2022-06-28</td><td>2022-05-28</td><td>2022-04-28</td><td>30765</td><td>40291</td><td>38757831407</td><td>24925</td><td>35433</td><td>26607409196</td><td>27805</td><td>36605</td><td>34419342538</td></tr><tr><td>2022-07-27</td><td>39491</td><td>56775</td><td>44855670306</td><td>2022-06-27</td><td>2022-05-27</td><td>2022-04-27</td><td>38951</td><td>52188</td><td>46459958187</td><td>35688</td><td>50253</td><td>39256733176</td><td>35363</td><td>47754</td><td>39465848085</td></tr><tr><td>2022-07-26</td><td>44962</td><td>64517</td><td>50619352887</td><td>2022-06-26</td><td>2022-05-26</td><td>2022-04-26</td><td>32047</td><td>42082</td><td>32913999800</td><td>39508</td><td>56735</td><td>40585728121</td><td>39089</td><td>54358</td><td>41236016067</td></tr><tr><td>2022-07-25</td><td>53791</td><td>77065</td><td>60007324017</td><td>2022-06-25</td><td>2022-05-25</td><td>2022-04-25</td><td>40549</td><td>53435</td><td>41162730219</td><td>48996</td><td>68597</td><td>47676460870</td><td>47159</td><td>65156</td><td>48224694107</td></tr><tr><td>2022-07-24</td><td>41984</td><td>61492</td><td>38920039372</td><td>2022-06-24</td><td>2022-05-24</td><td>2022-04-24</td><td>49293</td><td>65831</td><td>49077430069</td><td>52170</td><td>73588</td><td>47992337287</td><td>35880</td><td>50460</td><td>29286705126</td></tr><tr><td>2022-07-23</td><td>50741</td><td>71571</td><td>47471399778</td><td>2022-06-23</td><td>2022-05-23</td><td>2022-04-23</td><td>56044</td><td>74285</td><td>51673509983</td><td>61829</td><td>87711</td><td>53451912203</td><td>46104</td><td>63838</td><td>38092320469</td></tr><tr><td>2022-07-22</td><td>69122</td><td>96244</td><td>65378239245</td><td>2022-06-22</td><td>2022-05-22</td><td>2022-04-22</td><td>69532</td><td>92605</td><td>60581193478</td><td>49830</td><td>71415</td><td>37061206321</td><td>51206</td><td>70556</td><td>42339819857</td></tr></tbody></table></div>"
      ],
      "text/plain": [
       "shape: (10, 16)\n",
       "┌────────────┬───────┬───────┬─────────────┬───┬────────────┬────────────┬────────────┬────────────┐\n",
       "│ date       ┆ x_1   ┆ x_2   ┆ label       ┆ … ┆ label_prev ┆ x_1_prev_3 ┆ x_2_prev_3 ┆ label_prev │\n",
       "│ ---        ┆ ---   ┆ ---   ┆ ---         ┆   ┆ _2_month   ┆ _month     ┆ _month     ┆ _3_month   │\n",
       "│ date       ┆ i64   ┆ i64   ┆ i64         ┆   ┆ ---        ┆ ---        ┆ ---        ┆ ---        │\n",
       "│            ┆       ┆       ┆             ┆   ┆ i64        ┆ i64        ┆ i64        ┆ i64        │\n",
       "╞════════════╪═══════╪═══════╪═════════════╪═══╪════════════╪════════════╪════════════╪════════════╡\n",
       "│ 2022-07-31 ┆ 17420 ┆ 24136 ┆ 20593939456 ┆ … ┆ 3768401350 ┆ 16293      ┆ 21353      ┆ 2021217791 │\n",
       "│            ┆       ┆       ┆             ┆   ┆ 8          ┆            ┆            ┆ 8          │\n",
       "│ 2022-07-30 ┆ 19884 ┆ 28171 ┆ 26267033664 ┆ … ┆ 3297086714 ┆ 16293      ┆ 21353      ┆ 2021217791 │\n",
       "│            ┆       ┆       ┆             ┆   ┆ 6          ┆            ┆            ┆ 8          │\n",
       "│ 2022-07-29 ┆ 25323 ┆ 36250 ┆ 34789820354 ┆ … ┆ 2003381246 ┆ 27990      ┆ 38629      ┆ 3840361878 │\n",
       "│            ┆       ┆       ┆             ┆   ┆ 5          ┆            ┆            ┆ 7          │\n",
       "│ 2022-07-28 ┆ 31960 ┆ 46610 ┆ 39199979007 ┆ … ┆ 2660740919 ┆ 27805      ┆ 36605      ┆ 3441934253 │\n",
       "│            ┆       ┆       ┆             ┆   ┆ 6          ┆            ┆            ┆ 8          │\n",
       "│ 2022-07-27 ┆ 39491 ┆ 56775 ┆ 44855670306 ┆ … ┆ 3925673317 ┆ 35363      ┆ 47754      ┆ 3946584808 │\n",
       "│            ┆       ┆       ┆             ┆   ┆ 6          ┆            ┆            ┆ 5          │\n",
       "│ 2022-07-26 ┆ 44962 ┆ 64517 ┆ 50619352887 ┆ … ┆ 4058572812 ┆ 39089      ┆ 54358      ┆ 4123601606 │\n",
       "│            ┆       ┆       ┆             ┆   ┆ 1          ┆            ┆            ┆ 7          │\n",
       "│ 2022-07-25 ┆ 53791 ┆ 77065 ┆ 60007324017 ┆ … ┆ 4767646087 ┆ 47159      ┆ 65156      ┆ 4822469410 │\n",
       "│            ┆       ┆       ┆             ┆   ┆ 0          ┆            ┆            ┆ 7          │\n",
       "│ 2022-07-24 ┆ 41984 ┆ 61492 ┆ 38920039372 ┆ … ┆ 4799233728 ┆ 35880      ┆ 50460      ┆ 2928670512 │\n",
       "│            ┆       ┆       ┆             ┆   ┆ 7          ┆            ┆            ┆ 6          │\n",
       "│ 2022-07-23 ┆ 50741 ┆ 71571 ┆ 47471399778 ┆ … ┆ 5345191220 ┆ 46104      ┆ 63838      ┆ 3809232046 │\n",
       "│            ┆       ┆       ┆             ┆   ┆ 3          ┆            ┆            ┆ 9          │\n",
       "│ 2022-07-22 ┆ 69122 ┆ 96244 ┆ 65378239245 ┆ … ┆ 3706120632 ┆ 51206      ┆ 70556      ┆ 4233981985 │\n",
       "│            ┆       ┆       ┆             ┆   ┆ 1          ┆            ┆            ┆ 7          │\n",
       "└────────────┴───────┴───────┴─────────────┴───┴────────────┴────────────┴────────────┴────────────┘"
      ]
     },
     "execution_count": 62,
     "metadata": {},
     "output_type": "execute_result"
    }
   ],
   "source": [
    "# ====================================\n",
    "# Values of the same date in the previous 1, 2, 3… months or quarters or years.\n",
    "# Example: date = 2022-09-01 -> same date in the previous 1 month = 2022-08-01\n",
    "# The end date of a month is usually different from eachother. Can use the next or previous date to fill in: date = 2022-07-31 -> same date in the previous 1 month = 2022-07-01 or 2022-06-30.\n",
    "# The choice depends on the characteristics of the data and the purpose of forecasting.\n",
    "prev_month = 3 # do not use data from the first 3 months for training. There will be a bunch of null values in prev_3_month_value.\n",
    "prev_step = 1\n",
    "\n",
    "###############\n",
    "# Version: Using previous date to fill in\n",
    "\n",
    "# get previous month date for joining\n",
    "prev_columns = []\n",
    "\n",
    "for i in range(1, prev_month+1, prev_step):\n",
    "    # by default: get previous date to fill in: 2022-06-30 for 2022-07-31\n",
    "    prev_columns.append(pl.col(\"date\").dt.offset_by(f\"-{i}mo\").alias(f\"prev_{i}_month\"))\n",
    "    \n",
    "    # https://docs.pola.rs/api/python/stable/reference/expressions/api/polars.Expr.dt.offset_by.html\n",
    "    # # same date last week\n",
    "    # prev_columns.append(pl.col(\"date\").dt.offset_by(f\"-{i}w\").alias(f\"prev_{i}_week\"))\n",
    "    \n",
    "    # # same date last quarter\n",
    "    # prev_columns.append(pl.col(\"date\").dt.offset_by(f\"-{i}q\").alias(f\"prev_{i}_quarter\"))\n",
    "    \n",
    "    # # same date last year\n",
    "    # prev_columns.append(pl.col(\"date\").dt.offset_by(f\"-{i}y\").alias(f\"prev_{i}_year\"))\n",
    "    \n",
    "df_prep = df.with_columns(prev_columns)\n",
    "\n",
    "# get previous month data by self-joining with date = prev_{i}_month\n",
    "value_columns = ['x_1', 'x_2', 'label']\n",
    "\n",
    "for i in range(1, prev_month+1, prev_step):\n",
    "    \n",
    "    value_columns_rename = {'date': 'date_join'}\n",
    "    \n",
    "    for c in value_columns:\n",
    "        value_columns_rename[c] = f\"{c}_prev_{i}_month\"\n",
    "    \n",
    "    df_prep = df_prep.join(df_prep.select(['date'] + value_columns).rename(value_columns_rename),\n",
    "                           left_on=f\"prev_{i}_month\",\n",
    "                           right_on='date_join', # by default polars not adding right_on column to result\n",
    "                           how=\"left\")\n",
    "\n",
    "# # delete columns with name starts with \"prev_\"\n",
    "# df_prep = df_prep.drop(cs.starts_with(\"prev_\"))\n",
    "\n",
    "df_prep.slice(45, 10)"
   ]
  },
  {
   "cell_type": "code",
   "execution_count": 55,
   "metadata": {},
   "outputs": [
    {
     "data": {
      "text/html": [
       "<div><style>\n",
       ".dataframe > thead > tr,\n",
       ".dataframe > tbody > tr {\n",
       "  text-align: right;\n",
       "  white-space: pre-wrap;\n",
       "}\n",
       "</style>\n",
       "<small>shape: (10, 14)</small><table border=\"1\" class=\"dataframe\"><thead><tr><th>date</th><th>x_1</th><th>x_2</th><th>label</th><th>day</th><th>prev_1_month</th><th>prev_1_month_day</th><th>prev_1_month_day_diff</th><th>prev_2_month</th><th>prev_2_month_day</th><th>prev_2_month_day_diff</th><th>prev_3_month</th><th>prev_3_month_day</th><th>prev_3_month_day_diff</th></tr><tr><td>date</td><td>i64</td><td>i64</td><td>i64</td><td>i8</td><td>date</td><td>i8</td><td>i8</td><td>date</td><td>i8</td><td>i8</td><td>date</td><td>i8</td><td>i8</td></tr></thead><tbody><tr><td>2022-03-31</td><td>20556</td><td>27630</td><td>29201126524</td><td>31</td><td>2022-03-03</td><td>28</td><td>3</td><td>2022-01-31</td><td>31</td><td>0</td><td>2021-12-31</td><td>31</td><td>0</td></tr><tr><td>2022-03-30</td><td>21596</td><td>29330</td><td>26624140436</td><td>30</td><td>2022-03-02</td><td>28</td><td>2</td><td>2022-01-30</td><td>30</td><td>0</td><td>2021-12-30</td><td>30</td><td>0</td></tr><tr><td>2022-03-29</td><td>22929</td><td>31310</td><td>25605067518</td><td>29</td><td>2022-03-01</td><td>28</td><td>1</td><td>2022-01-29</td><td>29</td><td>0</td><td>2021-12-29</td><td>29</td><td>0</td></tr><tr><td>2022-03-28</td><td>29078</td><td>39085</td><td>30561931579</td><td>28</td><td>2022-02-28</td><td>28</td><td>0</td><td>2022-01-28</td><td>28</td><td>0</td><td>2021-12-28</td><td>28</td><td>0</td></tr><tr><td>2022-03-27</td><td>25968</td><td>34468</td><td>22647394491</td><td>27</td><td>2022-02-27</td><td>27</td><td>0</td><td>2022-01-27</td><td>27</td><td>0</td><td>2021-12-27</td><td>27</td><td>0</td></tr><tr><td>2022-03-26</td><td>31697</td><td>43999</td><td>28525252066</td><td>26</td><td>2022-02-26</td><td>26</td><td>0</td><td>2022-01-26</td><td>26</td><td>0</td><td>2021-12-26</td><td>26</td><td>0</td></tr><tr><td>2022-03-25</td><td>38359</td><td>52518</td><td>35312823287</td><td>25</td><td>2022-02-25</td><td>25</td><td>0</td><td>2022-01-25</td><td>25</td><td>0</td><td>2021-12-25</td><td>25</td><td>0</td></tr><tr><td>2022-03-24</td><td>44149</td><td>60934</td><td>36990483766</td><td>24</td><td>2022-02-24</td><td>24</td><td>0</td><td>2022-01-24</td><td>24</td><td>0</td><td>2021-12-24</td><td>24</td><td>0</td></tr><tr><td>2022-03-23</td><td>51485</td><td>71539</td><td>40465771440</td><td>23</td><td>2022-02-23</td><td>23</td><td>0</td><td>2022-01-23</td><td>23</td><td>0</td><td>2021-12-23</td><td>23</td><td>0</td></tr><tr><td>2022-03-22</td><td>54711</td><td>74812</td><td>43885872567</td><td>22</td><td>2022-02-22</td><td>22</td><td>0</td><td>2022-01-22</td><td>22</td><td>0</td><td>2021-12-22</td><td>22</td><td>0</td></tr></tbody></table></div>"
      ],
      "text/plain": [
       "shape: (10, 14)\n",
       "┌────────────┬───────┬───────┬─────────────┬───┬────────────┬────────────┬────────────┬────────────┐\n",
       "│ date       ┆ x_1   ┆ x_2   ┆ label       ┆ … ┆ prev_2_mon ┆ prev_3_mon ┆ prev_3_mon ┆ prev_3_mon │\n",
       "│ ---        ┆ ---   ┆ ---   ┆ ---         ┆   ┆ th_day_dif ┆ th         ┆ th_day     ┆ th_day_dif │\n",
       "│ date       ┆ i64   ┆ i64   ┆ i64         ┆   ┆ f          ┆ ---        ┆ ---        ┆ f          │\n",
       "│            ┆       ┆       ┆             ┆   ┆ ---        ┆ date       ┆ i8         ┆ ---        │\n",
       "│            ┆       ┆       ┆             ┆   ┆ i8         ┆            ┆            ┆ i8         │\n",
       "╞════════════╪═══════╪═══════╪═════════════╪═══╪════════════╪════════════╪════════════╪════════════╡\n",
       "│ 2022-03-31 ┆ 20556 ┆ 27630 ┆ 29201126524 ┆ … ┆ 0          ┆ 2021-12-31 ┆ 31         ┆ 0          │\n",
       "│ 2022-03-30 ┆ 21596 ┆ 29330 ┆ 26624140436 ┆ … ┆ 0          ┆ 2021-12-30 ┆ 30         ┆ 0          │\n",
       "│ 2022-03-29 ┆ 22929 ┆ 31310 ┆ 25605067518 ┆ … ┆ 0          ┆ 2021-12-29 ┆ 29         ┆ 0          │\n",
       "│ 2022-03-28 ┆ 29078 ┆ 39085 ┆ 30561931579 ┆ … ┆ 0          ┆ 2021-12-28 ┆ 28         ┆ 0          │\n",
       "│ 2022-03-27 ┆ 25968 ┆ 34468 ┆ 22647394491 ┆ … ┆ 0          ┆ 2021-12-27 ┆ 27         ┆ 0          │\n",
       "│ 2022-03-26 ┆ 31697 ┆ 43999 ┆ 28525252066 ┆ … ┆ 0          ┆ 2021-12-26 ┆ 26         ┆ 0          │\n",
       "│ 2022-03-25 ┆ 38359 ┆ 52518 ┆ 35312823287 ┆ … ┆ 0          ┆ 2021-12-25 ┆ 25         ┆ 0          │\n",
       "│ 2022-03-24 ┆ 44149 ┆ 60934 ┆ 36990483766 ┆ … ┆ 0          ┆ 2021-12-24 ┆ 24         ┆ 0          │\n",
       "│ 2022-03-23 ┆ 51485 ┆ 71539 ┆ 40465771440 ┆ … ┆ 0          ┆ 2021-12-23 ┆ 23         ┆ 0          │\n",
       "│ 2022-03-22 ┆ 54711 ┆ 74812 ┆ 43885872567 ┆ … ┆ 0          ┆ 2021-12-22 ┆ 22         ┆ 0          │\n",
       "└────────────┴───────┴───────┴─────────────┴───┴────────────┴────────────┴────────────┴────────────┘"
      ]
     },
     "execution_count": 55,
     "metadata": {},
     "output_type": "execute_result"
    }
   ],
   "source": [
    "# ====================================\n",
    "# Values of the same date in the previous 1, 2, 3… months or quarters or years.\n",
    "# Example: date = 2022-09-01 -> same date in the previous 1 month = 2022-08-01\n",
    "# The end date of a month is usually different from eachother. Can use the next or previous date to fill in: date = 2022-07-31 -> same date in the previous 1 month = 2022-07-01 or 2022-06-30.\n",
    "# The choice depends on the characteristics of the data and the purpose of forecasting.\n",
    "prev_month = 3 # do not use data from the first 3 months for training. There will be a bunch of null values in prev_3_month_value.\n",
    "prev_step = 1\n",
    "\n",
    "# get previous month date for joining\n",
    "prev_columns = []\n",
    "\n",
    "###############\n",
    "# Version: Using next date to fill in\n",
    "\n",
    "# ====================================\n",
    "# Day of date\n",
    "# For filtering the time more simple\n",
    "# cast to Int8 or Int16 for smaller data size\n",
    "df_prep = df.with_columns(day=pl.col('date').dt.day().cast(pl.Int8))\n",
    "\n",
    "for i in range(1, prev_month+1, prev_step):\n",
    "    # by default: get previous date to fill in: 2022-06-30 for 2022-07-31\n",
    "    df_prep = df_prep.with_columns(pl.col(\"date\").dt.offset_by(f\"-{i}mo\").alias(f\"prev_{i}_month\"))\n",
    "    \n",
    "    # day of prev_month\n",
    "    # if day of prev_month < day of date -> use the next date of prev_month\n",
    "    df_prep = df_prep.with_columns(pl.col(f\"prev_{i}_month\").dt.day().cast(pl.Int8).alias(f\"prev_{i}_month_day\"))\n",
    "    \n",
    "    df_prep = df_prep.with_columns((pl.col(f\"day\") - pl.col(f\"prev_{i}_month_day\")).alias(f\"prev_{i}_month_day_diff\"))\n",
    "    \n",
    "    df_prep = df_prep.with_columns(pl.when(pl.col(f\"prev_{i}_month_day_diff\") > 0).then(pl.col(f\"prev_{i}_month\") + pl.duration(days=pl.col(f\"prev_{i}_month_day_diff\")))\n",
    "                                   .otherwise(pl.col(f\"prev_{i}_month\")).alias(f\"prev_{i}_month\"))\n",
    "\n",
    "\n",
    "df_prep.slice(167, 10)"
   ]
  },
  {
   "cell_type": "markdown",
   "metadata": {},
   "source": [
    "# Aggregated Lagged Values Features\n",
    "- Rolling mean, max, min, median, standard deviation… of the same date in the previous 1, 2, 3… months or quarters or years...."
   ]
  },
  {
   "cell_type": "code",
   "execution_count": 67,
   "metadata": {},
   "outputs": [
    {
     "data": {
      "text/html": [
       "<div><style>\n",
       ".dataframe > thead > tr,\n",
       ".dataframe > tbody > tr {\n",
       "  text-align: right;\n",
       "  white-space: pre-wrap;\n",
       "}\n",
       "</style>\n",
       "<small>shape: (10, 28)</small><table border=\"1\" class=\"dataframe\"><thead><tr><th>date</th><th>x_1</th><th>x_2</th><th>label</th><th>x_1_rolling_mean</th><th>x_1_rolling_min</th><th>x_1_rolling_max</th><th>x_1_rolling_std</th><th>x_2_rolling_mean</th><th>x_2_rolling_min</th><th>x_2_rolling_max</th><th>x_2_rolling_std</th><th>label_rolling_mean</th><th>label_rolling_min</th><th>label_rolling_max</th><th>label_rolling_std</th><th>x_1_same_date_rolling_mean</th><th>x_1_same_date_rolling_min</th><th>x_1_same_date_rolling_max</th><th>x_1_same_date_rolling_std</th><th>x_2_same_date_rolling_mean</th><th>x_2_same_date_rolling_min</th><th>x_2_same_date_rolling_max</th><th>x_2_same_date_rolling_std</th><th>label_same_date_rolling_mean</th><th>label_same_date_rolling_min</th><th>label_same_date_rolling_max</th><th>label_same_date_rolling_std</th></tr><tr><td>date</td><td>i64</td><td>i64</td><td>i64</td><td>f64</td><td>i64</td><td>i64</td><td>f64</td><td>f64</td><td>i64</td><td>i64</td><td>f64</td><td>f64</td><td>i64</td><td>i64</td><td>f64</td><td>f64</td><td>i64</td><td>i64</td><td>f64</td><td>f64</td><td>i64</td><td>i64</td><td>f64</td><td>f64</td><td>i64</td><td>i64</td><td>f64</td></tr></thead><tbody><tr><td>2022-09-14</td><td>125490</td><td>169835</td><td>108957173922</td><td>90058.333333</td><td>77888</td><td>97057</td><td>10579.330902</td><td>122641.333333</td><td>109136</td><td>129753</td><td>11701.470093</td><td>7.8271e10</td><td>67757852224</td><td>84356083730</td><td>9.1424e9</td><td>90058.333333</td><td>77888</td><td>97057</td><td>10579.330902</td><td>122641.333333</td><td>109136</td><td>129753</td><td>11701.470093</td><td>7.8271e10</td><td>67757852224</td><td>84356083730</td><td>9.1424e9</td></tr><tr><td>2022-09-13</td><td>107326</td><td>146494</td><td>97902777699</td><td>88045.666667</td><td>82044</td><td>93640</td><td>5808.721403</td><td>119520.333333</td><td>113005</td><td>124479</td><td>5893.265422</td><td>7.8372e10</td><td>70168022431</td><td>83375464274</td><td>7.1619e9</td><td>88045.666667</td><td>82044</td><td>93640</td><td>5808.721403</td><td>119520.333333</td><td>113005</td><td>124479</td><td>5893.265422</td><td>7.8372e10</td><td>70168022431</td><td>83375464274</td><td>7.1619e9</td></tr><tr><td>2022-09-12</td><td>93820</td><td>130855</td><td>95690875998</td><td>82391.0</td><td>69934</td><td>88917</td><td>10792.179715</td><td>111725.666667</td><td>92317</td><td>123273</td><td>16909.136741</td><td>7.3986e10</td><td>55440756933</td><td>83972748818</td><td>1.6077e10</td><td>82391.0</td><td>69934</td><td>88917</td><td>10792.179715</td><td>111725.666667</td><td>92317</td><td>123273</td><td>16909.136741</td><td>7.3986e10</td><td>55440756933</td><td>83972748818</td><td>1.6077e10</td></tr><tr><td>2022-09-11</td><td>64274</td><td>87798</td><td>58820280634</td><td>73718.666667</td><td>69230</td><td>81485</td><td>6753.042302</td><td>100397.0</td><td>93500</td><td>114115</td><td>11880.197263</td><td>7.1797e10</td><td>61757119252</td><td>78554995379</td><td>8.8666e9</td><td>73718.666667</td><td>69230</td><td>81485</td><td>6753.042302</td><td>100397.0</td><td>93500</td><td>114115</td><td>11880.197263</td><td>7.1797e10</td><td>61757119252</td><td>78554995379</td><td>8.8666e9</td></tr><tr><td>2022-09-10</td><td>66959</td><td>90096</td><td>69852043855</td><td>80081.333333</td><td>52072</td><td>98153</td><td>24595.376686</td><td>107754.0</td><td>69508</td><td>134906</td><td>34081.25919</td><td>8.3556e10</td><td>52052998733</td><td>105589463477</td><td>2.7996e10</td><td>80081.333333</td><td>52072</td><td>98153</td><td>24595.376686</td><td>107754.0</td><td>69508</td><td>134906</td><td>34081.25919</td><td>8.3556e10</td><td>52052998733</td><td>105589463477</td><td>2.7996e10</td></tr><tr><td>2022-09-09</td><td>72821</td><td>97114</td><td>79781916805</td><td>62673.0</td><td>57879</td><td>65862</td><td>4226.593309</td><td>83871.666667</td><td>76511</td><td>89477</td><td>6658.842642</td><td>6.2166e10</td><td>60032826975</td><td>65070329562</td><td>2.6057e9</td><td>62673.0</td><td>57879</td><td>65862</td><td>4226.593309</td><td>83871.666667</td><td>76511</td><td>89477</td><td>6658.842642</td><td>6.2166e10</td><td>60032826975</td><td>65070329562</td><td>2.6057e9</td></tr><tr><td>2022-09-08</td><td>54406</td><td>71847</td><td>55782383425</td><td>61879.0</td><td>56290</td><td>67107</td><td>5417.528311</td><td>81357.333333</td><td>77199</td><td>85582</td><td>4191.893645</td><td>6.3511e10</td><td>60874604717</td><td>68754263224</td><td>4.5407e9</td><td>61879.0</td><td>56290</td><td>67107</td><td>5417.528311</td><td>81357.333333</td><td>77199</td><td>85582</td><td>4191.893645</td><td>6.3511e10</td><td>60874604717</td><td>68754263224</td><td>4.5407e9</td></tr><tr><td>2022-09-07</td><td>59809</td><td>75899</td><td>56484560972</td><td>44358.333333</td><td>36055</td><td>50476</td><td>7454.808135</td><td>57062.333333</td><td>48272</td><td>63996</td><td>8024.740017</td><td>4.4732e10</td><td>34110129387</td><td>50829170014</td><td>9.2322e9</td><td>44358.333333</td><td>36055</td><td>50476</td><td>7454.808135</td><td>57062.333333</td><td>48272</td><td>63996</td><td>8024.740017</td><td>4.4732e10</td><td>34110129387</td><td>50829170014</td><td>9.2322e9</td></tr><tr><td>2022-09-06</td><td>54644</td><td>69028</td><td>53346288660</td><td>42089.333333</td><td>38576</td><td>45581</td><td>3502.550261</td><td>54292.0</td><td>51831</td><td>57884</td><td>3181.049041</td><td>4.3482e10</td><td>37221762750</td><td>48609254247</td><td>5.7778e9</td><td>42089.333333</td><td>38576</td><td>45581</td><td>3502.550261</td><td>54292.0</td><td>51831</td><td>57884</td><td>3181.049041</td><td>4.3482e10</td><td>37221762750</td><td>48609254247</td><td>5.7778e9</td></tr><tr><td>2022-09-05</td><td>45267</td><td>56439</td><td>52145550109</td><td>39291.0</td><td>29891</td><td>45596</td><td>8297.350481</td><td>49886.333333</td><td>38138</td><td>58944</td><td>10660.777379</td><td>4.2207e10</td><td>29322182883</td><td>49183495067</td><td>1.1172e10</td><td>39291.0</td><td>29891</td><td>45596</td><td>8297.350481</td><td>49886.333333</td><td>38138</td><td>58944</td><td>10660.777379</td><td>4.2207e10</td><td>29322182883</td><td>49183495067</td><td>1.1172e10</td></tr></tbody></table></div>"
      ],
      "text/plain": [
       "shape: (10, 28)\n",
       "┌────────────┬────────┬────────┬────────────┬───┬────────────┬────────────┬────────────┬───────────┐\n",
       "│ date       ┆ x_1    ┆ x_2    ┆ label      ┆ … ┆ label_same ┆ label_same ┆ label_same ┆ label_sam │\n",
       "│ ---        ┆ ---    ┆ ---    ┆ ---        ┆   ┆ _date_roll ┆ _date_roll ┆ _date_roll ┆ e_date_ro │\n",
       "│ date       ┆ i64    ┆ i64    ┆ i64        ┆   ┆ ing_mean   ┆ ing_min    ┆ ing_max    ┆ lling_std │\n",
       "│            ┆        ┆        ┆            ┆   ┆ ---        ┆ ---        ┆ ---        ┆ ---       │\n",
       "│            ┆        ┆        ┆            ┆   ┆ f64        ┆ i64        ┆ i64        ┆ f64       │\n",
       "╞════════════╪════════╪════════╪════════════╪═══╪════════════╪════════════╪════════════╪═══════════╡\n",
       "│ 2022-09-14 ┆ 125490 ┆ 169835 ┆ 1089571739 ┆ … ┆ 7.8271e10  ┆ 6775785222 ┆ 8435608373 ┆ 9.1424e9  │\n",
       "│            ┆        ┆        ┆ 22         ┆   ┆            ┆ 4          ┆ 0          ┆           │\n",
       "│ 2022-09-13 ┆ 107326 ┆ 146494 ┆ 9790277769 ┆ … ┆ 7.8372e10  ┆ 7016802243 ┆ 8337546427 ┆ 7.1619e9  │\n",
       "│            ┆        ┆        ┆ 9          ┆   ┆            ┆ 1          ┆ 4          ┆           │\n",
       "│ 2022-09-12 ┆ 93820  ┆ 130855 ┆ 9569087599 ┆ … ┆ 7.3986e10  ┆ 5544075693 ┆ 8397274881 ┆ 1.6077e10 │\n",
       "│            ┆        ┆        ┆ 8          ┆   ┆            ┆ 3          ┆ 8          ┆           │\n",
       "│ 2022-09-11 ┆ 64274  ┆ 87798  ┆ 5882028063 ┆ … ┆ 7.1797e10  ┆ 6175711925 ┆ 7855499537 ┆ 8.8666e9  │\n",
       "│            ┆        ┆        ┆ 4          ┆   ┆            ┆ 2          ┆ 9          ┆           │\n",
       "│ 2022-09-10 ┆ 66959  ┆ 90096  ┆ 6985204385 ┆ … ┆ 8.3556e10  ┆ 5205299873 ┆ 1055894634 ┆ 2.7996e10 │\n",
       "│            ┆        ┆        ┆ 5          ┆   ┆            ┆ 3          ┆ 77         ┆           │\n",
       "│ 2022-09-09 ┆ 72821  ┆ 97114  ┆ 7978191680 ┆ … ┆ 6.2166e10  ┆ 6003282697 ┆ 6507032956 ┆ 2.6057e9  │\n",
       "│            ┆        ┆        ┆ 5          ┆   ┆            ┆ 5          ┆ 2          ┆           │\n",
       "│ 2022-09-08 ┆ 54406  ┆ 71847  ┆ 5578238342 ┆ … ┆ 6.3511e10  ┆ 6087460471 ┆ 6875426322 ┆ 4.5407e9  │\n",
       "│            ┆        ┆        ┆ 5          ┆   ┆            ┆ 7          ┆ 4          ┆           │\n",
       "│ 2022-09-07 ┆ 59809  ┆ 75899  ┆ 5648456097 ┆ … ┆ 4.4732e10  ┆ 3411012938 ┆ 5082917001 ┆ 9.2322e9  │\n",
       "│            ┆        ┆        ┆ 2          ┆   ┆            ┆ 7          ┆ 4          ┆           │\n",
       "│ 2022-09-06 ┆ 54644  ┆ 69028  ┆ 5334628866 ┆ … ┆ 4.3482e10  ┆ 3722176275 ┆ 4860925424 ┆ 5.7778e9  │\n",
       "│            ┆        ┆        ┆ 0          ┆   ┆            ┆ 0          ┆ 7          ┆           │\n",
       "│ 2022-09-05 ┆ 45267  ┆ 56439  ┆ 5214555010 ┆ … ┆ 4.2207e10  ┆ 2932218288 ┆ 4918349506 ┆ 1.1172e10 │\n",
       "│            ┆        ┆        ┆ 9          ┆   ┆            ┆ 3          ┆ 7          ┆           │\n",
       "└────────────┴────────┴────────┴────────────┴───┴────────────┴────────────┴────────────┴───────────┘"
      ]
     },
     "execution_count": 67,
     "metadata": {},
     "output_type": "execute_result"
    }
   ],
   "source": [
    "# ====================================\n",
    "# Rolling mean, max, min, median, standard deviation… of the same date in the previous 1, 2, 3… months or quarters or years....\n",
    "for c in value_columns:\n",
    "    df_prep = df_prep.with_columns(pl.concat_list(cs.starts_with(f\"{c}_prev_\")).list.mean().alias(f\"{c}_same_date_rolling_mean\"))\n",
    "    df_prep = df_prep.with_columns(pl.concat_list(cs.starts_with(f\"{c}_prev_\")).list.min().alias(f\"{c}_same_date_rolling_min\"))\n",
    "    df_prep = df_prep.with_columns(pl.concat_list(cs.starts_with(f\"{c}_prev_\")).list.max().alias(f\"{c}_same_date_rolling_max\"))\n",
    "    df_prep = df_prep.with_columns(pl.concat_list(cs.starts_with(f\"{c}_prev_\")).list.std().alias(f\"{c}_same_date_rolling_std\"))\n",
    "\n",
    "    # for easy showing result\n",
    "    df_prep = df_prep.drop(cs.starts_with(f\"{c}_prev_\"))\n",
    "        \n",
    "# delete columns with name starts with \"prev_\"\n",
    "df_prep = df_prep.drop(cs.starts_with(\"prev_\"))\n",
    "\n",
    "df_prep.head(10)"
   ]
  }
 ],
 "metadata": {
  "kernelspec": {
   "display_name": "Python 3",
   "language": "python",
   "name": "python3"
  },
  "language_info": {
   "codemirror_mode": {
    "name": "ipython",
    "version": 3
   },
   "file_extension": ".py",
   "mimetype": "text/x-python",
   "name": "python",
   "nbconvert_exporter": "python",
   "pygments_lexer": "ipython3",
   "version": "3.12.5"
  },
  "toc": {
   "base_numbering": 1,
   "nav_menu": {},
   "number_sections": true,
   "sideBar": true,
   "skip_h1_title": false,
   "title_cell": "Table of Contents",
   "title_sidebar": "Contents",
   "toc_cell": false,
   "toc_position": {
    "height": "calc(100% - 180px)",
    "left": "10px",
    "top": "150px",
    "width": "262px"
   },
   "toc_section_display": true,
   "toc_window_display": false
  },
  "varInspector": {
   "cols": {
    "lenName": 16,
    "lenType": 16,
    "lenVar": 40
   },
   "kernels_config": {
    "python": {
     "delete_cmd_postfix": "",
     "delete_cmd_prefix": "del ",
     "library": "var_list.py",
     "varRefreshCmd": "print(var_dic_list())"
    },
    "r": {
     "delete_cmd_postfix": ") ",
     "delete_cmd_prefix": "rm(",
     "library": "var_list.r",
     "varRefreshCmd": "cat(var_dic_list()) "
    }
   },
   "types_to_exclude": [
    "module",
    "function",
    "builtin_function_or_method",
    "instance",
    "_Feature"
   ],
   "window_display": false
  }
 },
 "nbformat": 4,
 "nbformat_minor": 4
}
