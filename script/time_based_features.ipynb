{
 "cells": [
  {
   "cell_type": "markdown",
   "metadata": {},
   "source": [
    "# Init library"
   ]
  },
  {
   "cell_type": "code",
   "execution_count": 1,
   "metadata": {},
   "outputs": [
    {
     "name": "stdout",
     "output_type": "stream",
     "text": [
      "O:\\Projects\\time_series_feature_engineering\n"
     ]
    }
   ],
   "source": [
    "# get parent directory for easy calling files outside of folder conatining the code file\n",
    "\n",
    "import os\n",
    "import sys\n",
    "from pathlib import Path\n",
    "\n",
    "parent_dir = Path(os.getcwd()).resolve().parent\n",
    "sys.path.append(str(parent_dir))\n",
    "\n",
    "print(parent_dir)\n",
    "\n"
   ]
  },
  {
   "cell_type": "code",
   "execution_count": 2,
   "metadata": {
    "ExecuteTime": {
     "end_time": "2023-04-06T07:23:33.910085Z",
     "start_time": "2023-04-06T07:22:55.160427Z"
    }
   },
   "outputs": [],
   "source": [
    "#!/usr/bin/env python\n",
    "# coding: utf-8\n",
    "\n",
    "import numpy as np\n",
    "\n",
    "import polars as pl\n",
    "\n",
    "import holidays"
   ]
  },
  {
   "cell_type": "markdown",
   "metadata": {},
   "source": [
    "# Read data"
   ]
  },
  {
   "cell_type": "code",
   "execution_count": 3,
   "metadata": {},
   "outputs": [
    {
     "name": "stdout",
     "output_type": "stream",
     "text": [
      "(988, 4)\n"
     ]
    },
    {
     "data": {
      "text/html": [
       "<div><style>\n",
       ".dataframe > thead > tr,\n",
       ".dataframe > tbody > tr {\n",
       "  text-align: right;\n",
       "  white-space: pre-wrap;\n",
       "}\n",
       "</style>\n",
       "<small>shape: (5, 4)</small><table border=\"1\" class=\"dataframe\"><thead><tr><th>date</th><th>x_1</th><th>x_2</th><th>label</th></tr><tr><td>date</td><td>i64</td><td>i64</td><td>i64</td></tr></thead><tbody><tr><td>2022-09-14</td><td>125490</td><td>169835</td><td>108957173922</td></tr><tr><td>2022-09-13</td><td>107326</td><td>146494</td><td>97902777699</td></tr><tr><td>2022-09-12</td><td>93820</td><td>130855</td><td>95690875998</td></tr><tr><td>2022-09-11</td><td>64274</td><td>87798</td><td>58820280634</td></tr><tr><td>2022-09-10</td><td>66959</td><td>90096</td><td>69852043855</td></tr></tbody></table></div>"
      ],
      "text/plain": [
       "shape: (5, 4)\n",
       "┌────────────┬────────┬────────┬──────────────┐\n",
       "│ date       ┆ x_1    ┆ x_2    ┆ label        │\n",
       "│ ---        ┆ ---    ┆ ---    ┆ ---          │\n",
       "│ date       ┆ i64    ┆ i64    ┆ i64          │\n",
       "╞════════════╪════════╪════════╪══════════════╡\n",
       "│ 2022-09-14 ┆ 125490 ┆ 169835 ┆ 108957173922 │\n",
       "│ 2022-09-13 ┆ 107326 ┆ 146494 ┆ 97902777699  │\n",
       "│ 2022-09-12 ┆ 93820  ┆ 130855 ┆ 95690875998  │\n",
       "│ 2022-09-11 ┆ 64274  ┆ 87798  ┆ 58820280634  │\n",
       "│ 2022-09-10 ┆ 66959  ┆ 90096  ┆ 69852043855  │\n",
       "└────────────┴────────┴────────┴──────────────┘"
      ]
     },
     "execution_count": 3,
     "metadata": {},
     "output_type": "execute_result"
    }
   ],
   "source": [
    "df = pl.read_excel(parent_dir / 'data/test_data_2020_202208.xlsx')\n",
    "\n",
    "print(df.shape)\n",
    "\n",
    "df.head(5)"
   ]
  },
  {
   "cell_type": "markdown",
   "metadata": {},
   "source": [
    "# Time-based features\n",
    "- Holidays, number of days until next/have passed holidays…\n",
    "- Weekdays, weekends\n",
    "- Seasons of year (quarters)\n",
    "- Sales days (Black Friday, 11/11…)\n",
    "- Day, month, quarter, year of date"
   ]
  },
  {
   "cell_type": "code",
   "execution_count": 5,
   "metadata": {},
   "outputs": [
    {
     "data": {
      "text/html": [
       "<div><style>\n",
       ".dataframe > thead > tr,\n",
       ".dataframe > tbody > tr {\n",
       "  text-align: right;\n",
       "  white-space: pre-wrap;\n",
       "}\n",
       "</style>\n",
       "<small>shape: (14, 11)</small><table border=\"1\" class=\"dataframe\"><thead><tr><th>date</th><th>x_1</th><th>x_2</th><th>label</th><th>year</th><th>is_holiday</th><th>weekday</th><th>day</th><th>month</th><th>quarter</th><th>special_day</th></tr><tr><td>date</td><td>i64</td><td>i64</td><td>i64</td><td>i32</td><td>i8</td><td>i8</td><td>i8</td><td>i8</td><td>i8</td><td>i8</td></tr></thead><tbody><tr><td>2022-09-14</td><td>125490</td><td>169835</td><td>108957173922</td><td>2022</td><td>0</td><td>3</td><td>14</td><td>9</td><td>3</td><td>0</td></tr><tr><td>2022-09-13</td><td>107326</td><td>146494</td><td>97902777699</td><td>2022</td><td>0</td><td>2</td><td>13</td><td>9</td><td>3</td><td>0</td></tr><tr><td>2022-09-12</td><td>93820</td><td>130855</td><td>95690875998</td><td>2022</td><td>0</td><td>1</td><td>12</td><td>9</td><td>3</td><td>0</td></tr><tr><td>2022-09-11</td><td>64274</td><td>87798</td><td>58820280634</td><td>2022</td><td>0</td><td>7</td><td>11</td><td>9</td><td>3</td><td>0</td></tr><tr><td>2022-09-10</td><td>66959</td><td>90096</td><td>69852043855</td><td>2022</td><td>0</td><td>6</td><td>10</td><td>9</td><td>3</td><td>0</td></tr><tr><td>&hellip;</td><td>&hellip;</td><td>&hellip;</td><td>&hellip;</td><td>&hellip;</td><td>&hellip;</td><td>&hellip;</td><td>&hellip;</td><td>&hellip;</td><td>&hellip;</td><td>&hellip;</td></tr><tr><td>2022-09-05</td><td>45267</td><td>56439</td><td>52145550109</td><td>2022</td><td>0</td><td>1</td><td>5</td><td>9</td><td>3</td><td>0</td></tr><tr><td>2022-09-04</td><td>21103</td><td>26208</td><td>22803785170</td><td>2022</td><td>0</td><td>7</td><td>4</td><td>9</td><td>3</td><td>0</td></tr><tr><td>2022-09-03</td><td>20778</td><td>26028</td><td>22707880783</td><td>2022</td><td>0</td><td>6</td><td>3</td><td>9</td><td>3</td><td>0</td></tr><tr><td>2022-09-02</td><td>18867</td><td>23122</td><td>19098035913</td><td>2022</td><td>1</td><td>5</td><td>2</td><td>9</td><td>3</td><td>0</td></tr><tr><td>2022-09-01</td><td>22713</td><td>28045</td><td>31608675158</td><td>2022</td><td>0</td><td>4</td><td>1</td><td>9</td><td>3</td><td>0</td></tr></tbody></table></div>"
      ],
      "text/plain": [
       "shape: (14, 11)\n",
       "┌────────────┬────────┬────────┬──────────────┬───┬─────┬───────┬─────────┬─────────────┐\n",
       "│ date       ┆ x_1    ┆ x_2    ┆ label        ┆ … ┆ day ┆ month ┆ quarter ┆ special_day │\n",
       "│ ---        ┆ ---    ┆ ---    ┆ ---          ┆   ┆ --- ┆ ---   ┆ ---     ┆ ---         │\n",
       "│ date       ┆ i64    ┆ i64    ┆ i64          ┆   ┆ i8  ┆ i8    ┆ i8      ┆ i8          │\n",
       "╞════════════╪════════╪════════╪══════════════╪═══╪═════╪═══════╪═════════╪═════════════╡\n",
       "│ 2022-09-14 ┆ 125490 ┆ 169835 ┆ 108957173922 ┆ … ┆ 14  ┆ 9     ┆ 3       ┆ 0           │\n",
       "│ 2022-09-13 ┆ 107326 ┆ 146494 ┆ 97902777699  ┆ … ┆ 13  ┆ 9     ┆ 3       ┆ 0           │\n",
       "│ 2022-09-12 ┆ 93820  ┆ 130855 ┆ 95690875998  ┆ … ┆ 12  ┆ 9     ┆ 3       ┆ 0           │\n",
       "│ 2022-09-11 ┆ 64274  ┆ 87798  ┆ 58820280634  ┆ … ┆ 11  ┆ 9     ┆ 3       ┆ 0           │\n",
       "│ 2022-09-10 ┆ 66959  ┆ 90096  ┆ 69852043855  ┆ … ┆ 10  ┆ 9     ┆ 3       ┆ 0           │\n",
       "│ …          ┆ …      ┆ …      ┆ …            ┆ … ┆ …   ┆ …     ┆ …       ┆ …           │\n",
       "│ 2022-09-05 ┆ 45267  ┆ 56439  ┆ 52145550109  ┆ … ┆ 5   ┆ 9     ┆ 3       ┆ 0           │\n",
       "│ 2022-09-04 ┆ 21103  ┆ 26208  ┆ 22803785170  ┆ … ┆ 4   ┆ 9     ┆ 3       ┆ 0           │\n",
       "│ 2022-09-03 ┆ 20778  ┆ 26028  ┆ 22707880783  ┆ … ┆ 3   ┆ 9     ┆ 3       ┆ 0           │\n",
       "│ 2022-09-02 ┆ 18867  ┆ 23122  ┆ 19098035913  ┆ … ┆ 2   ┆ 9     ┆ 3       ┆ 0           │\n",
       "│ 2022-09-01 ┆ 22713  ┆ 28045  ┆ 31608675158  ┆ … ┆ 1   ┆ 9     ┆ 3       ┆ 0           │\n",
       "└────────────┴────────┴────────┴──────────────┴───┴─────┴───────┴─────────┴─────────────┘"
      ]
     },
     "execution_count": 5,
     "metadata": {},
     "output_type": "execute_result"
    }
   ],
   "source": [
    "# years in data\n",
    "df_prep = df.with_columns(year=pl.col('date').dt.year())\n",
    "\n",
    "years = list(df_prep['year'].unique())\n",
    "\n",
    "# ====================================\n",
    "# holiday in selected years\n",
    "vn_holidays = holidays.VN(years=years)\n",
    "\n",
    "df_prep = df_prep.with_columns(is_holiday=pl.col('date').is_in(vn_holidays.keys()).cast(pl.Int8))\n",
    "\n",
    "\n",
    "# ====================================\n",
    "# weekdays, weekends\n",
    "df_prep = df_prep.with_columns(weekday=pl.col('date').dt.weekday().cast(pl.Int8))\n",
    "\n",
    "\n",
    "# ====================================\n",
    "# Day, month, quarter, year of date\n",
    "df_prep = df_prep.with_columns(day=pl.col('date').dt.day().cast(pl.Int8))\n",
    "df_prep = df_prep.with_columns(month=pl.col('date').dt.month().cast(pl.Int8))\n",
    "df_prep = df_prep.with_columns(quarter=pl.col('date').dt.quarter().cast(pl.Int8))\n",
    "\n",
    "\n",
    "# ====================================\n",
    "# Sales days (Black Friday, 11/11…)\n",
    "# you can go crazy with the logic of sales days. Either have a fixed list of dates, or create a logic to get last friday of the month...\n",
    "df_prep = df_prep.with_columns(special_day=(pl.col('day') == pl.col('month')).cast(pl.Int8))\n",
    "\n",
    "\n",
    "df_prep.head(14)"
   ]
  },
  {
   "cell_type": "code",
   "execution_count": 6,
   "metadata": {},
   "outputs": [
    {
     "name": "stdout",
     "output_type": "stream",
     "text": [
      "[2019, 2020, 2021, 2022, 2023]\n"
     ]
    },
    {
     "data": {
      "text/html": [
       "<div><style>\n",
       ".dataframe > thead > tr,\n",
       ".dataframe > tbody > tr {\n",
       "  text-align: right;\n",
       "  white-space: pre-wrap;\n",
       "}\n",
       "</style>\n",
       "<small>shape: (10, 13)</small><table border=\"1\" class=\"dataframe\"><thead><tr><th>date</th><th>x_1</th><th>x_2</th><th>label</th><th>year</th><th>is_holiday</th><th>weekday</th><th>day</th><th>month</th><th>quarter</th><th>special_day</th><th>days_to_nearest_past</th><th>days_to_nearest_future</th></tr><tr><td>date</td><td>i64</td><td>i64</td><td>i64</td><td>i32</td><td>i8</td><td>i8</td><td>i8</td><td>i8</td><td>i8</td><td>i8</td><td>i16</td><td>i16</td></tr></thead><tbody><tr><td>2022-09-14</td><td>125490</td><td>169835</td><td>108957173922</td><td>2022</td><td>0</td><td>3</td><td>14</td><td>9</td><td>3</td><td>0</td><td>12</td><td>109</td></tr><tr><td>2022-09-13</td><td>107326</td><td>146494</td><td>97902777699</td><td>2022</td><td>0</td><td>2</td><td>13</td><td>9</td><td>3</td><td>0</td><td>11</td><td>110</td></tr><tr><td>2022-09-12</td><td>93820</td><td>130855</td><td>95690875998</td><td>2022</td><td>0</td><td>1</td><td>12</td><td>9</td><td>3</td><td>0</td><td>10</td><td>111</td></tr><tr><td>2022-09-11</td><td>64274</td><td>87798</td><td>58820280634</td><td>2022</td><td>0</td><td>7</td><td>11</td><td>9</td><td>3</td><td>0</td><td>9</td><td>112</td></tr><tr><td>2022-09-10</td><td>66959</td><td>90096</td><td>69852043855</td><td>2022</td><td>0</td><td>6</td><td>10</td><td>9</td><td>3</td><td>0</td><td>8</td><td>113</td></tr><tr><td>2022-09-09</td><td>72821</td><td>97114</td><td>79781916805</td><td>2022</td><td>0</td><td>5</td><td>9</td><td>9</td><td>3</td><td>1</td><td>7</td><td>114</td></tr><tr><td>2022-09-08</td><td>54406</td><td>71847</td><td>55782383425</td><td>2022</td><td>0</td><td>4</td><td>8</td><td>9</td><td>3</td><td>0</td><td>6</td><td>115</td></tr><tr><td>2022-09-07</td><td>59809</td><td>75899</td><td>56484560972</td><td>2022</td><td>0</td><td>3</td><td>7</td><td>9</td><td>3</td><td>0</td><td>5</td><td>116</td></tr><tr><td>2022-09-06</td><td>54644</td><td>69028</td><td>53346288660</td><td>2022</td><td>0</td><td>2</td><td>6</td><td>9</td><td>3</td><td>0</td><td>4</td><td>117</td></tr><tr><td>2022-09-05</td><td>45267</td><td>56439</td><td>52145550109</td><td>2022</td><td>0</td><td>1</td><td>5</td><td>9</td><td>3</td><td>0</td><td>3</td><td>118</td></tr></tbody></table></div>"
      ],
      "text/plain": [
       "shape: (10, 13)\n",
       "┌────────────┬────────┬────────┬─────────────┬───┬─────────┬─────────────┬────────────┬────────────┐\n",
       "│ date       ┆ x_1    ┆ x_2    ┆ label       ┆ … ┆ quarter ┆ special_day ┆ days_to_ne ┆ days_to_ne │\n",
       "│ ---        ┆ ---    ┆ ---    ┆ ---         ┆   ┆ ---     ┆ ---         ┆ arest_past ┆ arest_futu │\n",
       "│ date       ┆ i64    ┆ i64    ┆ i64         ┆   ┆ i8      ┆ i8          ┆ ---        ┆ re         │\n",
       "│            ┆        ┆        ┆             ┆   ┆         ┆             ┆ i16        ┆ ---        │\n",
       "│            ┆        ┆        ┆             ┆   ┆         ┆             ┆            ┆ i16        │\n",
       "╞════════════╪════════╪════════╪═════════════╪═══╪═════════╪═════════════╪════════════╪════════════╡\n",
       "│ 2022-09-14 ┆ 125490 ┆ 169835 ┆ 10895717392 ┆ … ┆ 3       ┆ 0           ┆ 12         ┆ 109        │\n",
       "│            ┆        ┆        ┆ 2           ┆   ┆         ┆             ┆            ┆            │\n",
       "│ 2022-09-13 ┆ 107326 ┆ 146494 ┆ 97902777699 ┆ … ┆ 3       ┆ 0           ┆ 11         ┆ 110        │\n",
       "│ 2022-09-12 ┆ 93820  ┆ 130855 ┆ 95690875998 ┆ … ┆ 3       ┆ 0           ┆ 10         ┆ 111        │\n",
       "│ 2022-09-11 ┆ 64274  ┆ 87798  ┆ 58820280634 ┆ … ┆ 3       ┆ 0           ┆ 9          ┆ 112        │\n",
       "│ 2022-09-10 ┆ 66959  ┆ 90096  ┆ 69852043855 ┆ … ┆ 3       ┆ 0           ┆ 8          ┆ 113        │\n",
       "│ 2022-09-09 ┆ 72821  ┆ 97114  ┆ 79781916805 ┆ … ┆ 3       ┆ 1           ┆ 7          ┆ 114        │\n",
       "│ 2022-09-08 ┆ 54406  ┆ 71847  ┆ 55782383425 ┆ … ┆ 3       ┆ 0           ┆ 6          ┆ 115        │\n",
       "│ 2022-09-07 ┆ 59809  ┆ 75899  ┆ 56484560972 ┆ … ┆ 3       ┆ 0           ┆ 5          ┆ 116        │\n",
       "│ 2022-09-06 ┆ 54644  ┆ 69028  ┆ 53346288660 ┆ … ┆ 3       ┆ 0           ┆ 4          ┆ 117        │\n",
       "│ 2022-09-05 ┆ 45267  ┆ 56439  ┆ 52145550109 ┆ … ┆ 3       ┆ 0           ┆ 3          ┆ 118        │\n",
       "└────────────┴────────┴────────┴─────────────┴───┴─────────┴─────────────┴────────────┴────────────┘"
      ]
     },
     "execution_count": 6,
     "metadata": {},
     "output_type": "execute_result"
    }
   ],
   "source": [
    "# ====================================\n",
    "# days to next holiday\n",
    "# days pass holiday\n",
    "\n",
    "# the next year holiday for future holiday of last dates of a year\n",
    "years_adj = years.copy()\n",
    "\n",
    "years_adj.append(years_adj[-1] + 1)\n",
    "\n",
    "# the previous year holiday for past holiday of first dates of a year\n",
    "years_adj.append(years_adj[0] - 1)\n",
    "\n",
    "years_adj.sort()\n",
    "\n",
    "print(years_adj)\n",
    "\n",
    "vn_holidays = holidays.VN(years=years_adj)\n",
    "holidays_array = np.array(list(vn_holidays.keys()))\n",
    "\n",
    "# Convert date to numerical format for vectorized operations\n",
    "def date_to_numeric(date):\n",
    "    days = np.datetime64(date) - np.datetime64('1970-01-01')  # days since epoch\n",
    "    return days.astype('timedelta64[D]') / np.timedelta64(1, 'D')\n",
    "\n",
    "# Function to compute nearest holidays\n",
    "def compute_nearest_holidays(df):    \n",
    "    # Convert DataFrame dates to numpy array\n",
    "    dates = df['date'].to_numpy()\n",
    "    \n",
    "    # Convert dates to numeric format (days since epoch)\n",
    "    dates_numeric = np.array([date_to_numeric(date) for date in dates])\n",
    "    holidays_numeric = np.array([date_to_numeric(date) for date in holidays_array])\n",
    "    \n",
    "    # Compute differences\n",
    "    diff_matrix = dates_numeric[:, None] - holidays_numeric\n",
    "\n",
    "    # Mask for past and future holidays\n",
    "    past_mask = diff_matrix >= 0\n",
    "    future_mask = diff_matrix < 0\n",
    "\n",
    "    # Handle past holidays\n",
    "    past_diff_matrix = np.where(past_mask, diff_matrix, np.inf)\n",
    "    nearest_past_days = np.min(past_diff_matrix, axis=1)\n",
    "\n",
    "    # Handle future holidays\n",
    "    future_diff_matrix = np.where(future_mask, -diff_matrix, np.inf)\n",
    "    nearest_future_days = np.min(future_diff_matrix, axis=1)\n",
    "\n",
    "    # Create result DataFrame\n",
    "    result_df = df.with_columns([\n",
    "        pl.Series(name=\"days_to_nearest_past\", values=nearest_past_days).cast(pl.Int16),\n",
    "        pl.Series(name=\"days_to_nearest_future\", values=nearest_future_days).cast(pl.Int16)\n",
    "    ])\n",
    "    \n",
    "    return result_df\n",
    "\n",
    "# Apply the function\n",
    "df_prep = compute_nearest_holidays(df_prep)\n",
    "\n",
    "df_prep.head(10)"
   ]
  },
  {
   "cell_type": "code",
   "execution_count": 7,
   "metadata": {},
   "outputs": [
    {
     "data": {
      "text/html": [
       "<div><style>\n",
       ".dataframe > thead > tr,\n",
       ".dataframe > tbody > tr {\n",
       "  text-align: right;\n",
       "  white-space: pre-wrap;\n",
       "}\n",
       "</style>\n",
       "<small>shape: (10, 63)</small><table border=\"1\" class=\"dataframe\"><thead><tr><th>date</th><th>x_1</th><th>x_2</th><th>label</th><th>year</th><th>is_holiday</th><th>weekday_1</th><th>weekday_2</th><th>weekday_3</th><th>weekday_4</th><th>weekday_5</th><th>weekday_6</th><th>weekday_7</th><th>day_1</th><th>day_10</th><th>day_11</th><th>day_12</th><th>day_13</th><th>day_14</th><th>day_15</th><th>day_16</th><th>day_17</th><th>day_18</th><th>day_19</th><th>day_2</th><th>day_20</th><th>day_21</th><th>day_22</th><th>day_23</th><th>day_24</th><th>day_25</th><th>day_26</th><th>day_27</th><th>day_28</th><th>day_29</th><th>day_3</th><th>day_30</th><th>day_31</th><th>day_4</th><th>day_5</th><th>day_6</th><th>day_7</th><th>day_8</th><th>day_9</th><th>month_1</th><th>month_10</th><th>month_11</th><th>month_12</th><th>month_2</th><th>month_3</th><th>month_4</th><th>month_5</th><th>month_6</th><th>month_7</th><th>month_8</th><th>month_9</th><th>quarter_1</th><th>quarter_2</th><th>quarter_3</th><th>quarter_4</th><th>special_day</th><th>days_to_nearest_past</th><th>days_to_nearest_future</th></tr><tr><td>date</td><td>i64</td><td>i64</td><td>i64</td><td>i32</td><td>i8</td><td>u8</td><td>u8</td><td>u8</td><td>u8</td><td>u8</td><td>u8</td><td>u8</td><td>u8</td><td>u8</td><td>u8</td><td>u8</td><td>u8</td><td>u8</td><td>u8</td><td>u8</td><td>u8</td><td>u8</td><td>u8</td><td>u8</td><td>u8</td><td>u8</td><td>u8</td><td>u8</td><td>u8</td><td>u8</td><td>u8</td><td>u8</td><td>u8</td><td>u8</td><td>u8</td><td>u8</td><td>u8</td><td>u8</td><td>u8</td><td>u8</td><td>u8</td><td>u8</td><td>u8</td><td>u8</td><td>u8</td><td>u8</td><td>u8</td><td>u8</td><td>u8</td><td>u8</td><td>u8</td><td>u8</td><td>u8</td><td>u8</td><td>u8</td><td>u8</td><td>u8</td><td>u8</td><td>u8</td><td>i8</td><td>i16</td><td>i16</td></tr></thead><tbody><tr><td>2022-09-14</td><td>125490</td><td>169835</td><td>108957173922</td><td>2022</td><td>0</td><td>0</td><td>0</td><td>1</td><td>0</td><td>0</td><td>0</td><td>0</td><td>0</td><td>0</td><td>0</td><td>0</td><td>0</td><td>1</td><td>0</td><td>0</td><td>0</td><td>0</td><td>0</td><td>0</td><td>0</td><td>0</td><td>0</td><td>0</td><td>0</td><td>0</td><td>0</td><td>0</td><td>0</td><td>0</td><td>0</td><td>0</td><td>0</td><td>0</td><td>0</td><td>0</td><td>0</td><td>0</td><td>0</td><td>0</td><td>0</td><td>0</td><td>0</td><td>0</td><td>0</td><td>0</td><td>0</td><td>0</td><td>0</td><td>0</td><td>1</td><td>0</td><td>0</td><td>1</td><td>0</td><td>0</td><td>12</td><td>109</td></tr><tr><td>2022-09-13</td><td>107326</td><td>146494</td><td>97902777699</td><td>2022</td><td>0</td><td>0</td><td>1</td><td>0</td><td>0</td><td>0</td><td>0</td><td>0</td><td>0</td><td>0</td><td>0</td><td>0</td><td>1</td><td>0</td><td>0</td><td>0</td><td>0</td><td>0</td><td>0</td><td>0</td><td>0</td><td>0</td><td>0</td><td>0</td><td>0</td><td>0</td><td>0</td><td>0</td><td>0</td><td>0</td><td>0</td><td>0</td><td>0</td><td>0</td><td>0</td><td>0</td><td>0</td><td>0</td><td>0</td><td>0</td><td>0</td><td>0</td><td>0</td><td>0</td><td>0</td><td>0</td><td>0</td><td>0</td><td>0</td><td>0</td><td>1</td><td>0</td><td>0</td><td>1</td><td>0</td><td>0</td><td>11</td><td>110</td></tr><tr><td>2022-09-12</td><td>93820</td><td>130855</td><td>95690875998</td><td>2022</td><td>0</td><td>1</td><td>0</td><td>0</td><td>0</td><td>0</td><td>0</td><td>0</td><td>0</td><td>0</td><td>0</td><td>1</td><td>0</td><td>0</td><td>0</td><td>0</td><td>0</td><td>0</td><td>0</td><td>0</td><td>0</td><td>0</td><td>0</td><td>0</td><td>0</td><td>0</td><td>0</td><td>0</td><td>0</td><td>0</td><td>0</td><td>0</td><td>0</td><td>0</td><td>0</td><td>0</td><td>0</td><td>0</td><td>0</td><td>0</td><td>0</td><td>0</td><td>0</td><td>0</td><td>0</td><td>0</td><td>0</td><td>0</td><td>0</td><td>0</td><td>1</td><td>0</td><td>0</td><td>1</td><td>0</td><td>0</td><td>10</td><td>111</td></tr><tr><td>2022-09-11</td><td>64274</td><td>87798</td><td>58820280634</td><td>2022</td><td>0</td><td>0</td><td>0</td><td>0</td><td>0</td><td>0</td><td>0</td><td>1</td><td>0</td><td>0</td><td>1</td><td>0</td><td>0</td><td>0</td><td>0</td><td>0</td><td>0</td><td>0</td><td>0</td><td>0</td><td>0</td><td>0</td><td>0</td><td>0</td><td>0</td><td>0</td><td>0</td><td>0</td><td>0</td><td>0</td><td>0</td><td>0</td><td>0</td><td>0</td><td>0</td><td>0</td><td>0</td><td>0</td><td>0</td><td>0</td><td>0</td><td>0</td><td>0</td><td>0</td><td>0</td><td>0</td><td>0</td><td>0</td><td>0</td><td>0</td><td>1</td><td>0</td><td>0</td><td>1</td><td>0</td><td>0</td><td>9</td><td>112</td></tr><tr><td>2022-09-10</td><td>66959</td><td>90096</td><td>69852043855</td><td>2022</td><td>0</td><td>0</td><td>0</td><td>0</td><td>0</td><td>0</td><td>1</td><td>0</td><td>0</td><td>1</td><td>0</td><td>0</td><td>0</td><td>0</td><td>0</td><td>0</td><td>0</td><td>0</td><td>0</td><td>0</td><td>0</td><td>0</td><td>0</td><td>0</td><td>0</td><td>0</td><td>0</td><td>0</td><td>0</td><td>0</td><td>0</td><td>0</td><td>0</td><td>0</td><td>0</td><td>0</td><td>0</td><td>0</td><td>0</td><td>0</td><td>0</td><td>0</td><td>0</td><td>0</td><td>0</td><td>0</td><td>0</td><td>0</td><td>0</td><td>0</td><td>1</td><td>0</td><td>0</td><td>1</td><td>0</td><td>0</td><td>8</td><td>113</td></tr><tr><td>2022-09-09</td><td>72821</td><td>97114</td><td>79781916805</td><td>2022</td><td>0</td><td>0</td><td>0</td><td>0</td><td>0</td><td>1</td><td>0</td><td>0</td><td>0</td><td>0</td><td>0</td><td>0</td><td>0</td><td>0</td><td>0</td><td>0</td><td>0</td><td>0</td><td>0</td><td>0</td><td>0</td><td>0</td><td>0</td><td>0</td><td>0</td><td>0</td><td>0</td><td>0</td><td>0</td><td>0</td><td>0</td><td>0</td><td>0</td><td>0</td><td>0</td><td>0</td><td>0</td><td>0</td><td>1</td><td>0</td><td>0</td><td>0</td><td>0</td><td>0</td><td>0</td><td>0</td><td>0</td><td>0</td><td>0</td><td>0</td><td>1</td><td>0</td><td>0</td><td>1</td><td>0</td><td>1</td><td>7</td><td>114</td></tr><tr><td>2022-09-08</td><td>54406</td><td>71847</td><td>55782383425</td><td>2022</td><td>0</td><td>0</td><td>0</td><td>0</td><td>1</td><td>0</td><td>0</td><td>0</td><td>0</td><td>0</td><td>0</td><td>0</td><td>0</td><td>0</td><td>0</td><td>0</td><td>0</td><td>0</td><td>0</td><td>0</td><td>0</td><td>0</td><td>0</td><td>0</td><td>0</td><td>0</td><td>0</td><td>0</td><td>0</td><td>0</td><td>0</td><td>0</td><td>0</td><td>0</td><td>0</td><td>0</td><td>0</td><td>1</td><td>0</td><td>0</td><td>0</td><td>0</td><td>0</td><td>0</td><td>0</td><td>0</td><td>0</td><td>0</td><td>0</td><td>0</td><td>1</td><td>0</td><td>0</td><td>1</td><td>0</td><td>0</td><td>6</td><td>115</td></tr><tr><td>2022-09-07</td><td>59809</td><td>75899</td><td>56484560972</td><td>2022</td><td>0</td><td>0</td><td>0</td><td>1</td><td>0</td><td>0</td><td>0</td><td>0</td><td>0</td><td>0</td><td>0</td><td>0</td><td>0</td><td>0</td><td>0</td><td>0</td><td>0</td><td>0</td><td>0</td><td>0</td><td>0</td><td>0</td><td>0</td><td>0</td><td>0</td><td>0</td><td>0</td><td>0</td><td>0</td><td>0</td><td>0</td><td>0</td><td>0</td><td>0</td><td>0</td><td>0</td><td>1</td><td>0</td><td>0</td><td>0</td><td>0</td><td>0</td><td>0</td><td>0</td><td>0</td><td>0</td><td>0</td><td>0</td><td>0</td><td>0</td><td>1</td><td>0</td><td>0</td><td>1</td><td>0</td><td>0</td><td>5</td><td>116</td></tr><tr><td>2022-09-06</td><td>54644</td><td>69028</td><td>53346288660</td><td>2022</td><td>0</td><td>0</td><td>1</td><td>0</td><td>0</td><td>0</td><td>0</td><td>0</td><td>0</td><td>0</td><td>0</td><td>0</td><td>0</td><td>0</td><td>0</td><td>0</td><td>0</td><td>0</td><td>0</td><td>0</td><td>0</td><td>0</td><td>0</td><td>0</td><td>0</td><td>0</td><td>0</td><td>0</td><td>0</td><td>0</td><td>0</td><td>0</td><td>0</td><td>0</td><td>0</td><td>1</td><td>0</td><td>0</td><td>0</td><td>0</td><td>0</td><td>0</td><td>0</td><td>0</td><td>0</td><td>0</td><td>0</td><td>0</td><td>0</td><td>0</td><td>1</td><td>0</td><td>0</td><td>1</td><td>0</td><td>0</td><td>4</td><td>117</td></tr><tr><td>2022-09-05</td><td>45267</td><td>56439</td><td>52145550109</td><td>2022</td><td>0</td><td>1</td><td>0</td><td>0</td><td>0</td><td>0</td><td>0</td><td>0</td><td>0</td><td>0</td><td>0</td><td>0</td><td>0</td><td>0</td><td>0</td><td>0</td><td>0</td><td>0</td><td>0</td><td>0</td><td>0</td><td>0</td><td>0</td><td>0</td><td>0</td><td>0</td><td>0</td><td>0</td><td>0</td><td>0</td><td>0</td><td>0</td><td>0</td><td>0</td><td>1</td><td>0</td><td>0</td><td>0</td><td>0</td><td>0</td><td>0</td><td>0</td><td>0</td><td>0</td><td>0</td><td>0</td><td>0</td><td>0</td><td>0</td><td>0</td><td>1</td><td>0</td><td>0</td><td>1</td><td>0</td><td>0</td><td>3</td><td>118</td></tr></tbody></table></div>"
      ],
      "text/plain": [
       "shape: (10, 63)\n",
       "┌────────────┬────────┬────────┬────────────┬───┬───────────┬────────────┬────────────┬────────────┐\n",
       "│ date       ┆ x_1    ┆ x_2    ┆ label      ┆ … ┆ quarter_4 ┆ special_da ┆ days_to_ne ┆ days_to_ne │\n",
       "│ ---        ┆ ---    ┆ ---    ┆ ---        ┆   ┆ ---       ┆ y          ┆ arest_past ┆ arest_futu │\n",
       "│ date       ┆ i64    ┆ i64    ┆ i64        ┆   ┆ u8        ┆ ---        ┆ ---        ┆ re         │\n",
       "│            ┆        ┆        ┆            ┆   ┆           ┆ i8         ┆ i16        ┆ ---        │\n",
       "│            ┆        ┆        ┆            ┆   ┆           ┆            ┆            ┆ i16        │\n",
       "╞════════════╪════════╪════════╪════════════╪═══╪═══════════╪════════════╪════════════╪════════════╡\n",
       "│ 2022-09-14 ┆ 125490 ┆ 169835 ┆ 1089571739 ┆ … ┆ 0         ┆ 0          ┆ 12         ┆ 109        │\n",
       "│            ┆        ┆        ┆ 22         ┆   ┆           ┆            ┆            ┆            │\n",
       "│ 2022-09-13 ┆ 107326 ┆ 146494 ┆ 9790277769 ┆ … ┆ 0         ┆ 0          ┆ 11         ┆ 110        │\n",
       "│            ┆        ┆        ┆ 9          ┆   ┆           ┆            ┆            ┆            │\n",
       "│ 2022-09-12 ┆ 93820  ┆ 130855 ┆ 9569087599 ┆ … ┆ 0         ┆ 0          ┆ 10         ┆ 111        │\n",
       "│            ┆        ┆        ┆ 8          ┆   ┆           ┆            ┆            ┆            │\n",
       "│ 2022-09-11 ┆ 64274  ┆ 87798  ┆ 5882028063 ┆ … ┆ 0         ┆ 0          ┆ 9          ┆ 112        │\n",
       "│            ┆        ┆        ┆ 4          ┆   ┆           ┆            ┆            ┆            │\n",
       "│ 2022-09-10 ┆ 66959  ┆ 90096  ┆ 6985204385 ┆ … ┆ 0         ┆ 0          ┆ 8          ┆ 113        │\n",
       "│            ┆        ┆        ┆ 5          ┆   ┆           ┆            ┆            ┆            │\n",
       "│ 2022-09-09 ┆ 72821  ┆ 97114  ┆ 7978191680 ┆ … ┆ 0         ┆ 1          ┆ 7          ┆ 114        │\n",
       "│            ┆        ┆        ┆ 5          ┆   ┆           ┆            ┆            ┆            │\n",
       "│ 2022-09-08 ┆ 54406  ┆ 71847  ┆ 5578238342 ┆ … ┆ 0         ┆ 0          ┆ 6          ┆ 115        │\n",
       "│            ┆        ┆        ┆ 5          ┆   ┆           ┆            ┆            ┆            │\n",
       "│ 2022-09-07 ┆ 59809  ┆ 75899  ┆ 5648456097 ┆ … ┆ 0         ┆ 0          ┆ 5          ┆ 116        │\n",
       "│            ┆        ┆        ┆ 2          ┆   ┆           ┆            ┆            ┆            │\n",
       "│ 2022-09-06 ┆ 54644  ┆ 69028  ┆ 5334628866 ┆ … ┆ 0         ┆ 0          ┆ 4          ┆ 117        │\n",
       "│            ┆        ┆        ┆ 0          ┆   ┆           ┆            ┆            ┆            │\n",
       "│ 2022-09-05 ┆ 45267  ┆ 56439  ┆ 5214555010 ┆ … ┆ 0         ┆ 0          ┆ 3          ┆ 118        │\n",
       "│            ┆        ┆        ┆ 9          ┆   ┆           ┆            ┆            ┆            │\n",
       "└────────────┴────────┴────────┴────────────┴───┴───────────┴────────────┴────────────┴────────────┘"
      ]
     },
     "execution_count": 7,
     "metadata": {},
     "output_type": "execute_result"
    }
   ],
   "source": [
    "# ====================================\n",
    "# expand features columns to horizontal\n",
    "df_prep = df_prep.to_dummies(columns=['weekday', 'day', 'month', 'quarter'])\n",
    "\n",
    "df_prep.head(10)"
   ]
  }
 ],
 "metadata": {
  "kernelspec": {
   "display_name": "Python 3",
   "language": "python",
   "name": "python3"
  },
  "language_info": {
   "codemirror_mode": {
    "name": "ipython",
    "version": 3
   },
   "file_extension": ".py",
   "mimetype": "text/x-python",
   "name": "python",
   "nbconvert_exporter": "python",
   "pygments_lexer": "ipython3",
   "version": "3.12.5"
  },
  "toc": {
   "base_numbering": 1,
   "nav_menu": {},
   "number_sections": true,
   "sideBar": true,
   "skip_h1_title": false,
   "title_cell": "Table of Contents",
   "title_sidebar": "Contents",
   "toc_cell": false,
   "toc_position": {
    "height": "calc(100% - 180px)",
    "left": "10px",
    "top": "150px",
    "width": "262px"
   },
   "toc_section_display": true,
   "toc_window_display": false
  },
  "varInspector": {
   "cols": {
    "lenName": 16,
    "lenType": 16,
    "lenVar": 40
   },
   "kernels_config": {
    "python": {
     "delete_cmd_postfix": "",
     "delete_cmd_prefix": "del ",
     "library": "var_list.py",
     "varRefreshCmd": "print(var_dic_list())"
    },
    "r": {
     "delete_cmd_postfix": ") ",
     "delete_cmd_prefix": "rm(",
     "library": "var_list.r",
     "varRefreshCmd": "cat(var_dic_list()) "
    }
   },
   "types_to_exclude": [
    "module",
    "function",
    "builtin_function_or_method",
    "instance",
    "_Feature"
   ],
   "window_display": false
  }
 },
 "nbformat": 4,
 "nbformat_minor": 4
}
